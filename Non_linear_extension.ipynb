{
 "cells": [
  {
   "cell_type": "code",
   "execution_count": 9,
   "metadata": {},
   "outputs": [],
   "source": [
    "import random\n",
    "import numpy as np"
   ]
  },
  {
   "cell_type": "code",
   "execution_count": 20,
   "metadata": {},
   "outputs": [],
   "source": [
    "n = 10\n",
    "x = np.random.uniform(0,1, n)"
   ]
  },
  {
   "cell_type": "code",
   "execution_count": 21,
   "metadata": {},
   "outputs": [],
   "source": [
    "# define a function that returns all possible subsets of s\n",
    "def powerset(s):\n",
    "    x = len(s)\n",
    "    power_set = []\n",
    "    for i in range(1 << x):\n",
    "       power_set.append([s[j] for j in range(x) if (i & (1 << j))])\n",
    "\n",
    "    return power_set"
   ]
  },
  {
   "cell_type": "markdown",
   "metadata": {},
   "source": [
    "### F(x) without sampling"
   ]
  },
  {
   "cell_type": "code",
   "execution_count": 22,
   "metadata": {},
   "outputs": [],
   "source": [
    "def F(x, f, N):\n",
    "    # print(\"power set of N\")\n",
    "    ps_N = powerset(N)\n",
    "    # print('ps_N: ', ps_N)\n",
    "\n",
    "    sum = 0\n",
    "    for S in ps_N:\n",
    "        if S == []:\n",
    "            # print(len(N))\n",
    "            # print('x in the loop: ', len(x))\n",
    "            x_not_S = [1 - x[i - 1] for i in N]\n",
    "            sum += f(S) * np.prod(x_not_S)\n",
    "        else:\n",
    "            x_S = [x[i - 1] for i in S]\n",
    "            not_S = list(set(N) - set(S))\n",
    "            # print(x_S)\n",
    "            # print(not_S)\n",
    "            x_S_na = [x[j - 1] for j in not_S]\n",
    "            sum += f(S) * np.prod(x_S) * np.prod(x_S_na)\n",
    "\n",
    "    return sum"
   ]
  },
  {
   "cell_type": "markdown",
   "metadata": {},
   "source": [
    "### Approximation of F(x) using sampling \n",
    "define t"
   ]
  },
  {
   "cell_type": "code",
   "execution_count": 23,
   "metadata": {},
   "outputs": [],
   "source": [
    "def F_approx(x, f, N):\n",
    "    \n",
    "    t= 100\n",
    "    sum_R = 0\n",
    "    \n",
    "    for i in range(t):\n",
    "            \n",
    "        x_bar = np.random.uniform(0,1, n)\n",
    "        r_t = x >= x_bar\n",
    "        R_t = []\n",
    "            \n",
    "        for i in range(len(r_t)):\n",
    "            \n",
    "            if r_t[i] == True:\n",
    "                R_t.append(i+1)\n",
    "                \n",
    "        sum_R = sum_R + f(R_t)\n",
    "\n",
    "    return sum_R/t"
   ]
  },
  {
   "cell_type": "code",
   "execution_count": 99,
   "metadata": {
    "scrolled": true
   },
   "outputs": [],
   "source": [
    "# print('Sum: ', F(x, f, N))"
   ]
  },
  {
   "cell_type": "code",
   "execution_count": 25,
   "metadata": {},
   "outputs": [],
   "source": [
    "import copy\n",
    "def get_gradient_F_for_i(F, x, f, N, i):\n",
    "\n",
    "\n",
    "    x_without_i = copy.deepcopy(x)\n",
    "    x_without_i[i] = 0.0\n",
    "\n",
    "    x_with_i = copy.deepcopy(x)\n",
    "    x_with_i[i] = 1.0\n",
    "\n",
    "    # print('x with xi: ', x_with_i)\n",
    "    # print('x without xi: ', x_without_i)\n",
    "\n",
    "    df_dxi = F(x_with_i, f, N) - F(x_without_i, f, N)\n",
    "    return df_dxi"
   ]
  },
  {
   "cell_type": "code",
   "execution_count": 98,
   "metadata": {
    "scrolled": true
   },
   "outputs": [],
   "source": [
    "# i = 3\n",
    "# print('gradient: ', get_gradient_F_for_i(F_approx, x, f, N, i))"
   ]
  },
  {
   "cell_type": "code",
   "execution_count": 27,
   "metadata": {},
   "outputs": [],
   "source": [
    "def get_gradient_F(F, x, f, N):\n",
    "    \n",
    "    grad = np.zeros(len(x))\n",
    "    \n",
    "    for i in range(len(x)):\n",
    "        \n",
    "        grad[i] = get_gradient_F_for_i(F, x, f, N, i)\n",
    "    \n",
    "    return grad"
   ]
  },
  {
   "cell_type": "code",
   "execution_count": 97,
   "metadata": {},
   "outputs": [],
   "source": [
    "# get_gradient_F(F, x, f, N)"
   ]
  },
  {
   "cell_type": "markdown",
   "metadata": {},
   "source": [
    "### Gradient Ascent"
   ]
  },
  {
   "cell_type": "code",
   "execution_count": 58,
   "metadata": {},
   "outputs": [],
   "source": [
    "# stepsize for gradient ascent\n",
    "alpha = 0.2\n",
    "\n",
    "def gradient_ascent(x_init, F, x, f, N, alpha):\n",
    "\n",
    "    # key values to be used\n",
    "    sum_update = 0\n",
    "    iter = 0\n",
    "    sum_temp = copy.deepcopy(sum_init)\n",
    "\n",
    "    # start updating the parameters x with iterative gradients\n",
    "    while np.abs(sum_temp - sum_update) > 10 ** (-2):\n",
    "        iter += 1\n",
    "        sum_temp = F(x, f, N)\n",
    "\n",
    "        for i in range(n):\n",
    "            grad_i = get_gradient_F_for_i(F, x, f, N, i)\n",
    "            x[i] = np.minimum(x[i] + alpha * grad_i, 1.0)\n",
    "\n",
    "        sum_update = F(x, f, N)\n",
    "\n",
    "        print('x updated: ', x)\n",
    "        print('sum updated: ', sum_update)\n",
    "\n",
    "    print('Iterations: ', iter)\n",
    "    print('Initial F: ', sum_init)\n",
    "    print('Initial x: ', x_init)\n",
    "    print('Final F: ', sum_update)\n",
    "    print('Final x: ', x)\n",
    "    return iter, sum_update, x\n"
   ]
  },
  {
   "cell_type": "markdown",
   "metadata": {},
   "source": [
    "## Testing"
   ]
  },
  {
   "cell_type": "code",
   "execution_count": 59,
   "metadata": {},
   "outputs": [
    {
     "name": "stdout",
     "output_type": "stream",
     "text": [
      "[2, 4, 5]\n"
     ]
    }
   ],
   "source": [
    "## Multi-Linear Extension\n",
    "\n",
    "\n",
    "## Key values\n",
    "n = 5 # number of elements in set N\n",
    "S_size = 3 # size of\n",
    "\n",
    "N = [(i+1) for i in range(n)] # set N\n",
    "S = random.sample(N, S_size) # subset S\n",
    "print(S)"
   ]
  },
  {
   "cell_type": "code",
   "execution_count": 81,
   "metadata": {},
   "outputs": [
    {
     "name": "stdout",
     "output_type": "stream",
     "text": [
      "x:  [3.16782228e-01 5.55591015e-04 1.84577367e-01 6.18966855e-01\n",
      " 4.06658745e-01 7.57905930e-01 2.71531924e-01 6.34850359e-01\n",
      " 5.11274018e-01 6.55948922e-01]\n"
     ]
    }
   ],
   "source": [
    "## function F: [0,1]^n -> R\n",
    "## function f: 2^S -> R\n",
    "\n",
    "n = 10\n",
    "N = [(i+1) for i in range(n)]\n",
    "\n",
    "## define an initial vector of x\n",
    "\n",
    "x = np.random.uniform(0,1, n)\n",
    "print(\"x: \", x)"
   ]
  },
  {
   "cell_type": "code",
   "execution_count": 82,
   "metadata": {},
   "outputs": [],
   "source": [
    "def f_constant(S):\n",
    "    return 5"
   ]
  },
  {
   "cell_type": "code",
   "execution_count": 83,
   "metadata": {},
   "outputs": [
    {
     "data": {
      "text/plain": [
       "array([0., 0., 0., 0., 0., 0., 0., 0., 0., 0.])"
      ]
     },
     "execution_count": 83,
     "metadata": {},
     "output_type": "execute_result"
    }
   ],
   "source": [
    "get_gradient_F(F_approx, x, f_constant, N)"
   ]
  },
  {
   "cell_type": "code",
   "execution_count": 84,
   "metadata": {
    "scrolled": true
   },
   "outputs": [
    {
     "data": {
      "text/plain": [
       "array([-4.19038926e-03,  3.29165979e+00,  1.57052878e-03, -1.49259015e-02,\n",
       "       -6.97999269e-03, -2.57339087e-02, -2.60667296e-03, -1.57780219e-02,\n",
       "       -1.03608615e-02, -1.70154639e-02])"
      ]
     },
     "execution_count": 84,
     "metadata": {},
     "output_type": "execute_result"
    }
   ],
   "source": [
    "get_gradient_F(F, x, f_constant, N)"
   ]
  },
  {
   "cell_type": "code",
   "execution_count": 85,
   "metadata": {},
   "outputs": [],
   "source": [
    "a = np.random.uniform(0,1, n)"
   ]
  },
  {
   "cell_type": "code",
   "execution_count": 86,
   "metadata": {},
   "outputs": [
    {
     "data": {
      "text/plain": [
       "array([0.57752534, 0.89637823, 0.13701174, 0.74650805, 0.39714286,\n",
       "       0.96045429, 0.83548525, 0.71808103, 0.16826208, 0.17470947])"
      ]
     },
     "execution_count": 86,
     "metadata": {},
     "output_type": "execute_result"
    }
   ],
   "source": [
    "a"
   ]
  },
  {
   "cell_type": "code",
   "execution_count": 87,
   "metadata": {},
   "outputs": [],
   "source": [
    "def f_linear(S):\n",
    "    \n",
    "    #convert S to 0,1\n",
    "    s_hat = np.zeros(n)\n",
    "    \n",
    "    for i in range(len(S)):\n",
    "        \n",
    "        s_hat[S[i]-1] = 1\n",
    "        \n",
    "    return np.dot(a,s_hat)"
   ]
  },
  {
   "cell_type": "code",
   "execution_count": 88,
   "metadata": {
    "scrolled": true
   },
   "outputs": [
    {
     "data": {
      "text/plain": [
       "array([0.58173057, 0.97342796, 0.03516944, 0.68069529, 0.42592107,\n",
       "       0.88020491, 0.89401086, 0.72060318, 0.10008324, 0.15232665])"
      ]
     },
     "execution_count": 88,
     "metadata": {},
     "output_type": "execute_result"
    }
   ],
   "source": [
    "get_gradient_F(F_approx, x, f_linear, N)"
   ]
  },
  {
   "cell_type": "code",
   "execution_count": 89,
   "metadata": {
    "scrolled": true
   },
   "outputs": [
    {
     "data": {
      "text/plain": [
       "array([3.24949543e-03, 1.85277007e+00, 5.57696981e-03, 1.66306547e-03,\n",
       "       2.53131752e-03, 1.35819284e-03, 3.79101798e-03, 1.62145676e-03,\n",
       "       2.01336733e-03, 1.56930268e-03])"
      ]
     },
     "execution_count": 89,
     "metadata": {},
     "output_type": "execute_result"
    }
   ],
   "source": [
    "get_gradient_F(F, x, f_linear, N)"
   ]
  },
  {
   "cell_type": "code",
   "execution_count": 90,
   "metadata": {},
   "outputs": [
    {
     "name": "stdout",
     "output_type": "stream",
     "text": [
      "Iterations:  0\n",
      "Initial F:  0.0010293824042785808\n",
      "Initial x:  [3.16782228e-01 5.55591015e-04 1.84577367e-01 6.18966855e-01\n",
      " 4.06658745e-01 7.57905930e-01 2.71531924e-01 6.34850359e-01\n",
      " 5.11274018e-01 6.55948922e-01]\n",
      "Final F:  0\n",
      "Final x:  [3.16782228e-01 5.55591015e-04 1.84577367e-01 6.18966855e-01\n",
      " 4.06658745e-01 7.57905930e-01 2.71531924e-01 6.34850359e-01\n",
      " 5.11274018e-01 6.55948922e-01]\n"
     ]
    },
    {
     "data": {
      "text/plain": [
       "(0, 0, array([3.16782228e-01, 5.55591015e-04, 1.84577367e-01, 6.18966855e-01,\n",
       "        4.06658745e-01, 7.57905930e-01, 2.71531924e-01, 6.34850359e-01,\n",
       "        5.11274018e-01, 6.55948922e-01]))"
      ]
     },
     "execution_count": 90,
     "metadata": {},
     "output_type": "execute_result"
    }
   ],
   "source": [
    "x_init = copy.deepcopy(x)\n",
    "sum_init = F(x, f_linear, N)\n",
    "gradient_ascent(x_init, F, x, f_linear, N, alpha)"
   ]
  },
  {
   "cell_type": "code",
   "execution_count": 91,
   "metadata": {},
   "outputs": [
    {
     "data": {
      "text/plain": [
       "2.3435834100349067"
      ]
     },
     "execution_count": 91,
     "metadata": {},
     "output_type": "execute_result"
    }
   ],
   "source": [
    "F_approx(x, f_linear, N)"
   ]
  },
  {
   "cell_type": "code",
   "execution_count": 92,
   "metadata": {},
   "outputs": [],
   "source": [
    "def f_polynomial(S):\n",
    "    \n",
    "    #convert S to 0,1\n",
    "    s_hat = np.zeros(n)\n",
    "    \n",
    "    for i in range(len(S)):\n",
    "        \n",
    "        s_hat[S[i]-1] = 1\n",
    "        \n",
    "    a_hat = s_hat*a\n",
    "    \n",
    "    return np.dot(a_hat,a_hat)"
   ]
  },
  {
   "cell_type": "code",
   "execution_count": 93,
   "metadata": {},
   "outputs": [
    {
     "data": {
      "text/plain": [
       "array([ 0.42000073,  0.73077304, -0.03406368,  0.53921204,  0.18994538,\n",
       "        0.93265915,  0.74104984,  0.39208339,  0.04542624,  0.01365854])"
      ]
     },
     "execution_count": 93,
     "metadata": {},
     "output_type": "execute_result"
    }
   ],
   "source": [
    "get_gradient_F(F_approx, x, f_polynomial, N)"
   ]
  },
  {
   "cell_type": "code",
   "execution_count": 94,
   "metadata": {},
   "outputs": [
    {
     "data": {
      "text/plain": [
       "array([2.35438006e-03, 1.34240069e+00, 4.04072165e-03, 1.20495267e-03,\n",
       "       1.83403350e-03, 9.84061126e-04, 2.74673325e-03, 1.17480561e-03,\n",
       "       1.45875937e-03, 1.13701805e-03])"
      ]
     },
     "execution_count": 94,
     "metadata": {},
     "output_type": "execute_result"
    }
   ],
   "source": [
    "get_gradient_F(F, x, f_polynomial, N)"
   ]
  },
  {
   "cell_type": "code",
   "execution_count": 95,
   "metadata": {},
   "outputs": [
    {
     "name": "stdout",
     "output_type": "stream",
     "text": [
      "Iterations:  0\n",
      "Initial F:  0.0007458257628314309\n",
      "Initial x:  [3.16782228e-01 5.55591015e-04 1.84577367e-01 6.18966855e-01\n",
      " 4.06658745e-01 7.57905930e-01 2.71531924e-01 6.34850359e-01\n",
      " 5.11274018e-01 6.55948922e-01]\n",
      "Final F:  0\n",
      "Final x:  [3.16782228e-01 5.55591015e-04 1.84577367e-01 6.18966855e-01\n",
      " 4.06658745e-01 7.57905930e-01 2.71531924e-01 6.34850359e-01\n",
      " 5.11274018e-01 6.55948922e-01]\n"
     ]
    },
    {
     "data": {
      "text/plain": [
       "(0, 0, array([3.16782228e-01, 5.55591015e-04, 1.84577367e-01, 6.18966855e-01,\n",
       "        4.06658745e-01, 7.57905930e-01, 2.71531924e-01, 6.34850359e-01,\n",
       "        5.11274018e-01, 6.55948922e-01]))"
      ]
     },
     "execution_count": 95,
     "metadata": {},
     "output_type": "execute_result"
    }
   ],
   "source": [
    "x_init = copy.deepcopy(x)\n",
    "sum_init = F(x, f_polynomial, N)\n",
    "gradient_ascent(x_init, F, x, f_polynomial, N, alpha)"
   ]
  },
  {
   "cell_type": "code",
   "execution_count": 96,
   "metadata": {},
   "outputs": [
    {
     "data": {
      "text/plain": [
       "1.8107783664291635"
      ]
     },
     "execution_count": 96,
     "metadata": {},
     "output_type": "execute_result"
    }
   ],
   "source": [
    "F_approx(x, f_polynomial, N)"
   ]
  },
  {
   "cell_type": "code",
   "execution_count": null,
   "metadata": {},
   "outputs": [],
   "source": []
  }
 ],
 "metadata": {
  "kernelspec": {
   "display_name": "Python 3",
   "language": "python",
   "name": "python3"
  },
  "language_info": {
   "codemirror_mode": {
    "name": "ipython",
    "version": 3
   },
   "file_extension": ".py",
   "mimetype": "text/x-python",
   "name": "python",
   "nbconvert_exporter": "python",
   "pygments_lexer": "ipython3",
   "version": "3.7.4"
  }
 },
 "nbformat": 4,
 "nbformat_minor": 2
}
