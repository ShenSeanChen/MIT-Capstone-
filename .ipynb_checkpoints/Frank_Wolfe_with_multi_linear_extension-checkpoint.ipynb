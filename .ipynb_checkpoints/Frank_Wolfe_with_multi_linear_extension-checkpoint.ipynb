{
 "cells": [
  {
   "cell_type": "code",
   "execution_count": 1,
   "metadata": {},
   "outputs": [],
   "source": [
    "import random\n",
    "import numpy as np\n",
    "import itertools\n",
    "import copy\n",
    "from scipy.optimize import linprog"
   ]
  },
  {
   "cell_type": "markdown",
   "metadata": {},
   "source": [
    "## Multi-linear approximation"
   ]
  },
  {
   "cell_type": "code",
   "execution_count": 2,
   "metadata": {},
   "outputs": [],
   "source": [
    "def F(x, f, t):\n",
    "\n",
    "    sum_R = 0\n",
    "\n",
    "    for i in range(t):\n",
    "\n",
    "        x_bar = np.random.uniform(0,1, x.shape)\n",
    "\n",
    "        R_t = x >= x_bar\n",
    "\n",
    "        sum_R = sum_R + f(R_t)\n",
    "\n",
    "    return sum_R/t"
   ]
  },
  {
   "cell_type": "markdown",
   "metadata": {},
   "source": [
    "## Function to calculate gradients"
   ]
  },
  {
   "cell_type": "code",
   "execution_count": 3,
   "metadata": {},
   "outputs": [],
   "source": [
    "def get_gradient_F(F,x,f,t,n):\n",
    "    \n",
    "    x_new_1 = x*np.ones((n, n))\n",
    "    x_new_0 = x*np.ones((n, n))\n",
    "\n",
    "    np.fill_diagonal(x_new_1, 1)\n",
    "    np.fill_diagonal(x_new_0, 0)\n",
    "    \n",
    "    return F(x_new_1, f, t) - F(x_new_0, f, t)"
   ]
  },
  {
   "cell_type": "code",
   "execution_count": 5,
   "metadata": {
    "scrolled": true
   },
   "outputs": [
    {
     "name": "stdout",
     "output_type": "stream",
     "text": [
      "[[-1.         -0.77777778 -0.55555556 -0.33333333 -0.11111111  0.11111111\n",
      "   0.33333333  0.55555556  0.77777778  1.        ]]\n"
     ]
    }
   ],
   "source": [
    "n = 10\n",
    "a = np.linspace(-1, 1, n).reshape(1,n)\n",
    "\n",
    "def f_linear(x):\n",
    "        \n",
    "    return np.dot(a,x.T)\n",
    "\n",
    "print(a)"
   ]
  },
  {
   "cell_type": "markdown",
   "metadata": {},
   "source": [
    "## Function to find z that maximizes $z^T \\nabla f(x^t)$"
   ]
  },
  {
   "cell_type": "code",
   "execution_count": 22,
   "metadata": {
    "scrolled": true
   },
   "outputs": [],
   "source": [
    "def get_argmax(grad,n):\n",
    "    c = -1*grad.reshape(n,1)\n",
    "    \n",
    "    b = np.zeros((n,2))\n",
    "    b[:,1] = 1\n",
    "    \n",
    "    # linear programming using linprog\n",
    "    res = linprog(c, bounds = b)\n",
    "    \n",
    "    return res.x.reshape(1,n)"
   ]
  },
  {
   "cell_type": "code",
   "execution_count": 23,
   "metadata": {},
   "outputs": [],
   "source": [
    "def step_size_function(j):\n",
    "    return 2/(j+2)"
   ]
  },
  {
   "cell_type": "markdown",
   "metadata": {},
   "source": [
    "## Frank-Wolfe algorithm"
   ]
  },
  {
   "cell_type": "code",
   "execution_count": 24,
   "metadata": {},
   "outputs": [],
   "source": [
    "def FW(F,gradient_F,f,t,n,max_iter,step_size,x_initial):\n",
    "    \n",
    "    x_j = x_initial\n",
    "    \n",
    "    for j in range(1,max_iter+1):\n",
    "        \n",
    "        grad = gradient_F(F,x_j,f,t,n)\n",
    "        \n",
    "        z_j = get_argmax(grad,n)\n",
    "        \n",
    "        gamma = step_size(j)\n",
    "        \n",
    "        x_j = gamma*z_j + (1-gamma)*x_j\n",
    "        \n",
    "        print(\"iter: \",j,\"\\n\",\"x: \", x_j,\"\\n\", \"z: \",z_j,\"\\n\", \"gradient: \",grad,\"\\n\", \"gamma: \",gamma,\"\\n\")\n",
    "    \n",
    "    return z_j"
   ]
  },
  {
   "cell_type": "code",
   "execution_count": 25,
   "metadata": {},
   "outputs": [],
   "source": [
    "n = 10\n",
    "t = 150\n",
    "max_iter = 10"
   ]
  },
  {
   "cell_type": "code",
   "execution_count": 26,
   "metadata": {},
   "outputs": [
    {
     "name": "stdout",
     "output_type": "stream",
     "text": [
      "[[0.05906241 0.07816892 0.91253436 0.2761709  0.29506698 0.23114491\n",
      "  0.60481076 0.79749605 0.34471726 0.70885934]]\n"
     ]
    }
   ],
   "source": [
    "x_initial = np.random.uniform(0,1, (1,n))\n",
    "print(x_initial)"
   ]
  },
  {
   "cell_type": "code",
   "execution_count": 27,
   "metadata": {},
   "outputs": [
    {
     "name": "stdout",
     "output_type": "stream",
     "text": [
      "iter:  1 \n",
      " x:  [[0.01968747 0.02605631 0.30417812 0.09205697 0.09835566 0.74371497\n",
      "  0.86827025 0.93249868 0.78157242 0.90295311]] \n",
      " z:  [[0. 0. 0. 0. 0. 1. 1. 1. 1. 1.]] \n",
      " gradient:  [[-1.12222222 -0.84       -0.4362963  -0.0562963  -0.17703704  0.03037037\n",
      "   0.28888889  0.4437037   0.6362963   0.97851852]] \n",
      " gamma:  0.6666666666666666 \n",
      "\n",
      "iter:  2 \n",
      " x:  [[0.00984373 0.01302815 0.15208906 0.04602848 0.04917783 0.87185749\n",
      "  0.93413513 0.96624934 0.89078621 0.95147656]] \n",
      " z:  [[0. 0. 0. 0. 0. 1. 1. 1. 1. 1.]] \n",
      " gradient:  [[-0.92666667 -0.76444444 -0.61407407 -0.30592593 -0.13111111  0.14148148\n",
      "   0.47851852  0.52592593  0.81777778  1.04740741]] \n",
      " gamma:  0.5 \n",
      "\n",
      "iter:  3 \n",
      " x:  [[0.00590624 0.00781689 0.09125344 0.02761709 0.0295067  0.92311449\n",
      "  0.96048108 0.97974961 0.93447173 0.97088593]] \n",
      " z:  [[0. 0. 0. 0. 0. 1. 1. 1. 1. 1.]] \n",
      " gradient:  [[-0.96666667 -0.83555556 -0.59481481 -0.34962963 -0.10814815  0.11407407\n",
      "   0.38888889  0.5162963   0.78444444  1.01555556]] \n",
      " gamma:  0.4 \n",
      "\n",
      "iter:  4 \n",
      " x:  [[0.00393749 0.00521126 0.06083562 0.01841139 0.01967113 0.94874299\n",
      "  0.97365405 0.98649974 0.95631448 0.98059062]] \n",
      " z:  [[0. 0. 0. 0. 0. 1. 1. 1. 1. 1.]] \n",
      " gradient:  [[-1.06       -0.78148148 -0.57925926 -0.35111111 -0.12592593  0.10666667\n",
      "   0.34962963  0.58962963  0.78962963  0.99037037]] \n",
      " gamma:  0.3333333333333333 \n",
      "\n",
      "iter:  5 \n",
      " x:  [[0.0028125  0.00372233 0.04345402 0.013151   0.01405081 0.96338785\n",
      "  0.98118146 0.99035695 0.96879606 0.98613616]] \n",
      " z:  [[0. 0. 0. 0. 0. 1. 1. 1. 1. 1.]] \n",
      " gradient:  [[-0.97851852 -0.79407407 -0.55925926 -0.29481481 -0.13259259  0.12888889\n",
      "   0.30666667  0.60296296  0.77037037  1.01111111]] \n",
      " gamma:  0.2857142857142857 \n",
      "\n",
      "iter:  6 \n",
      " x:  [[0.00210937 0.00279175 0.03259051 0.00986325 0.01053811 0.97254089\n",
      "  0.9858861  0.99276772 0.97659705 0.98960212]] \n",
      " z:  [[0. 0. 0. 0. 0. 1. 1. 1. 1. 1.]] \n",
      " gradient:  [[-0.97851852 -0.83333333 -0.54222222 -0.32666667 -0.13259259  0.11777778\n",
      "   0.33851852  0.52        0.76074074  0.98296296]] \n",
      " gamma:  0.25 \n",
      "\n",
      "iter:  7 \n",
      " x:  [[0.00164062 0.00217136 0.02534818 0.00767141 0.00819631 0.97864291\n",
      "  0.98902252 0.99437489 0.9817977  0.99191276]] \n",
      " z:  [[0. 0. 0. 0. 0. 1. 1. 1. 1. 1.]] \n",
      " gradient:  [[-1.03111111 -0.72222222 -0.59407407 -0.33185185 -0.09185185  0.12592593\n",
      "   0.34148148  0.58814815  0.79851852  1.01185185]] \n",
      " gamma:  0.2222222222222222 \n",
      "\n",
      "iter:  8 \n",
      " x:  [[0.0013125  0.00173709 0.02027854 0.00613713 0.00655704 0.98291433\n",
      "  0.99121802 0.99549991 0.98543816 0.99353021]] \n",
      " z:  [[0. 0. 0. 0. 0. 1. 1. 1. 1. 1.]] \n",
      " gradient:  [[-0.96962963 -0.7762963  -0.5637037  -0.3562963  -0.0962963   0.14740741\n",
      "   0.31481481  0.56740741  0.77703704  1.00148148]] \n",
      " gamma:  0.2 \n",
      "\n",
      "iter:  9 \n",
      " x:  [[0.00107386 0.00142125 0.01659153 0.00502129 0.00536485 0.98602082\n",
      "  0.99281474 0.99631811 0.98808577 0.99470653]] \n",
      " z:  [[0. 0. 0. 0. 0. 1. 1. 1. 1. 1.]] \n",
      " gradient:  [[-0.96518519 -0.7962963  -0.56444444 -0.32444444 -0.08962963  0.09111111\n",
      "   0.3362963   0.54962963  0.75703704  0.98740741]] \n",
      " gamma:  0.18181818181818182 \n",
      "\n",
      "iter:  10 \n",
      " x:  [[8.94884999e-04 1.18437753e-03 1.38262782e-02 4.18440758e-03\n",
      "  4.47071183e-03 9.88350681e-01 9.94012284e-01 9.96931758e-01\n",
      "  9.90071474e-01 9.95588778e-01]] \n",
      " z:  [[0. 0. 0. 0. 0. 1. 1. 1. 1. 1.]] \n",
      " gradient:  [[-1.02814815 -0.76444444 -0.53925926 -0.35333333 -0.11925926  0.12962963\n",
      "   0.33333333  0.58888889  0.78444444  0.98444444]] \n",
      " gamma:  0.16666666666666666 \n",
      "\n"
     ]
    },
    {
     "data": {
      "text/plain": [
       "array([[0., 0., 0., 0., 0., 1., 1., 1., 1., 1.]])"
      ]
     },
     "execution_count": 27,
     "metadata": {},
     "output_type": "execute_result"
    }
   ],
   "source": [
    "FW(F,get_gradient_F,f_linear,t,n,max_iter,step_size_function,x_initial)"
   ]
  },
  {
   "cell_type": "code",
   "execution_count": null,
   "metadata": {},
   "outputs": [],
   "source": []
  }
 ],
 "metadata": {
  "kernelspec": {
   "display_name": "Python 3",
   "language": "python",
   "name": "python3"
  },
  "language_info": {
   "codemirror_mode": {
    "name": "ipython",
    "version": 3
   },
   "file_extension": ".py",
   "mimetype": "text/x-python",
   "name": "python",
   "nbconvert_exporter": "python",
   "pygments_lexer": "ipython3",
   "version": "3.6.10"
  }
 },
 "nbformat": 4,
 "nbformat_minor": 2
}
