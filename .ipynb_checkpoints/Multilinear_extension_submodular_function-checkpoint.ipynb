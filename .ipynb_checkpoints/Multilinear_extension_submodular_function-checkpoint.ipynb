{
 "cells": [
  {
   "cell_type": "code",
   "execution_count": 1,
   "metadata": {},
   "outputs": [],
   "source": [
    "import random\n",
    "import numpy as np\n",
    "import itertools\n",
    "import copy"
   ]
  },
  {
   "cell_type": "markdown",
   "metadata": {},
   "source": [
    "### Powerset of S\n",
    "\n",
    "The function might not be needed for now"
   ]
  },
  {
   "cell_type": "code",
   "execution_count": 2,
   "metadata": {},
   "outputs": [],
   "source": [
    "def powerset(s):\n",
    "    x = len(s)\n",
    "    power_set = []\n",
    "    for i in range(1 << x):\n",
    "       power_set.append([s[j] for j in range(x) if (i & (1 << j))])\n",
    "\n",
    "    return power_set"
   ]
  },
  {
   "cell_type": "markdown",
   "metadata": {},
   "source": [
    "### F(x) without sampling"
   ]
  },
  {
   "cell_type": "code",
   "execution_count": 3,
   "metadata": {},
   "outputs": [],
   "source": [
    "def F(x, f, n):\n",
    "    \n",
    "    A = [np.array(i) for i in itertools.product([0, 1], repeat = n)]\n",
    "    \n",
    "    val_S = 0\n",
    "\n",
    "    for i in range(len(A)):\n",
    "\n",
    "        prod_in_s = 1\n",
    "        prod_not_in_s = 1\n",
    "        S = []\n",
    "\n",
    "        for j in range(len(A[i])):\n",
    "            if A[i][j] == 1:\n",
    "                prod_in_s = prod_in_s*x[j]\n",
    "                S.append(j+1)\n",
    "            else:\n",
    "                prod_not_in_s = prod_not_in_s*(1-x[j])\n",
    "\n",
    "        val_S = val_S + f(S)*prod_in_s*prod_not_in_s\n",
    "    \n",
    "    return val_S"
   ]
  },
  {
   "cell_type": "markdown",
   "metadata": {},
   "source": [
    "### Approximation of F(x) using sampling \n",
    "With t being the number of samples for estimation"
   ]
  },
  {
   "cell_type": "code",
   "execution_count": 4,
   "metadata": {},
   "outputs": [],
   "source": [
    "def F_approx(x, f, n):\n",
    "    \n",
    "    t= 320\n",
    "    sum_R = 0\n",
    "    \n",
    "    for i in range(t):\n",
    "            \n",
    "        x_bar = np.random.uniform(0,1, n)\n",
    "        r_t = x >= x_bar\n",
    "        R_t = []\n",
    "            \n",
    "        for i in range(len(r_t)):\n",
    "\n",
    "            if r_t[i] == True:\n",
    "                R_t.append(i+1)\n",
    "                \n",
    "        sum_R = sum_R + f(R_t)\n",
    "#         print(sum_R)\n",
    "\n",
    "    return sum_R/t"
   ]
  },
  {
   "cell_type": "markdown",
   "metadata": {},
   "source": [
    "### Compute First Order Gradients of F"
   ]
  },
  {
   "cell_type": "code",
   "execution_count": 5,
   "metadata": {},
   "outputs": [],
   "source": [
    "def get_gradient_F_for_i(F, x, f, n, i):\n",
    "\n",
    "\n",
    "    x_without_i = copy.deepcopy(x)\n",
    "    x_without_i[i] = 0.0\n",
    "\n",
    "    x_with_i = copy.deepcopy(x)\n",
    "    x_with_i[i] = 1.0\n",
    "\n",
    "    # print('x with xi: ', x_with_i)\n",
    "    # print('x without xi: ', x_without_i)\n",
    "\n",
    "    df_dxi = F(x_with_i, f, n) - F(x_without_i, f, n)\n",
    "    return df_dxi"
   ]
  },
  {
   "cell_type": "code",
   "execution_count": 6,
   "metadata": {},
   "outputs": [],
   "source": [
    "def get_gradient_F(F, x, f):\n",
    "    \n",
    "    n = len(x)\n",
    "    \n",
    "    grad = np.zeros(len(x))\n",
    "    \n",
    "    for i in range(len(x)):\n",
    "        \n",
    "        grad[i] = get_gradient_F_for_i(F, x, f, n, i)\n",
    "    \n",
    "    return grad"
   ]
  },
  {
   "cell_type": "markdown",
   "metadata": {},
   "source": [
    "### Gradient Ascent Method"
   ]
  },
  {
   "cell_type": "code",
   "execution_count": 7,
   "metadata": {},
   "outputs": [],
   "source": [
    "# stepsize for gradient ascent\n",
    "alpha = 0.01\n",
    "\n",
    "def gradient_ascent(F, x, f, n, alpha):\n",
    "    \n",
    "    x_init = copy.deepcopy(x)\n",
    "    sum_init = F(x, f, n)\n",
    "    # key values to be used\n",
    "    sum_update = 0\n",
    "    iter = 0\n",
    "    sum_temp = copy.deepcopy(sum_init)\n",
    "\n",
    "    # start updating the parameters x with iterative gradients\n",
    "    while np.abs(sum_temp - sum_update) > 10 ** (-2):\n",
    "        iter += 1\n",
    "        sum_temp = F(x, f, n)\n",
    "\n",
    "        for i in range(n):\n",
    "            grad_i = get_gradient_F_for_i(F, x, f, n, i)\n",
    "            x[i] = np.maximum(np.minimum(x[i] + alpha * grad_i, 1.0), 0.0)\n",
    "\n",
    "        sum_update = F(x, f, n)\n",
    "\n",
    "#         print('x updated: ', x)\n",
    "#         print('sum updated: ', sum_update)\n",
    "\n",
    "    print('Iterations: ', iter, '\\n')\n",
    "    print('Initial F: ', sum_init)\n",
    "    print('Initial x: ', x_init, '\\n')\n",
    "    print('Final F: ', sum_update)\n",
    "    print('Final x: ', x, '\\n')\n",
    "    return iter, sum_update, x"
   ]
  },
  {
   "cell_type": "markdown",
   "metadata": {},
   "source": [
    "## Testing\n",
    "\n",
    "With different versions of f: 2^S -> R"
   ]
  },
  {
   "cell_type": "markdown",
   "metadata": {},
   "source": [
    "Define the size of the problem (n) "
   ]
  },
  {
   "cell_type": "code",
   "execution_count": 8,
   "metadata": {
    "scrolled": false
   },
   "outputs": [],
   "source": [
    "n = 10\n",
    "N = [(i+1) for i in range(n)]"
   ]
  },
  {
   "cell_type": "markdown",
   "metadata": {},
   "source": [
    "Initialize an x vector"
   ]
  },
  {
   "cell_type": "code",
   "execution_count": 9,
   "metadata": {},
   "outputs": [
    {
     "name": "stdout",
     "output_type": "stream",
     "text": [
      "x:  [0.60864154 0.59242361 0.28103739 0.0399254  0.28637369 0.20680814\n",
      " 0.06964326 0.2896193  0.09642411 0.3582047 ]\n"
     ]
    }
   ],
   "source": [
    "x = np.random.uniform(0,1, n)\n",
    "print(\"x: \", x)"
   ]
  },
  {
   "cell_type": "markdown",
   "metadata": {},
   "source": [
    "The corresponding S vector with 0.5 as the cutting line"
   ]
  },
  {
   "cell_type": "code",
   "execution_count": 10,
   "metadata": {},
   "outputs": [
    {
     "name": "stdout",
     "output_type": "stream",
     "text": [
      "S:  [1, 2]\n"
     ]
    }
   ],
   "source": [
    "x_bar = 0.5*np.ones(len(x))\n",
    "s = x >= x_bar\n",
    "S = []\n",
    "            \n",
    "for i in range(len(s)):\n",
    "    if s[i] == True:\n",
    "        S.append(i+1)\n",
    "\n",
    "print(\"S: \", S)"
   ]
  },
  {
   "cell_type": "markdown",
   "metadata": {},
   "source": [
    "## Constant function f(s)"
   ]
  },
  {
   "cell_type": "code",
   "execution_count": 11,
   "metadata": {},
   "outputs": [],
   "source": [
    "def f_constant(S):\n",
    "    return 5"
   ]
  },
  {
   "cell_type": "markdown",
   "metadata": {},
   "source": [
    "### f_constant(S): Values of the function "
   ]
  },
  {
   "cell_type": "markdown",
   "metadata": {},
   "source": [
    "Actual value"
   ]
  },
  {
   "cell_type": "code",
   "execution_count": 12,
   "metadata": {
    "scrolled": true
   },
   "outputs": [
    {
     "data": {
      "text/plain": [
       "5"
      ]
     },
     "execution_count": 12,
     "metadata": {},
     "output_type": "execute_result"
    }
   ],
   "source": [
    "f_constant(S)"
   ]
  },
  {
   "cell_type": "markdown",
   "metadata": {},
   "source": [
    "Multi-linear extenstion"
   ]
  },
  {
   "cell_type": "code",
   "execution_count": 13,
   "metadata": {},
   "outputs": [
    {
     "data": {
      "text/plain": [
       "4.999999999999996"
      ]
     },
     "execution_count": 13,
     "metadata": {},
     "output_type": "execute_result"
    }
   ],
   "source": [
    "F(x, f_constant, n)"
   ]
  },
  {
   "cell_type": "markdown",
   "metadata": {},
   "source": [
    "Mutli-linear extension with sampling"
   ]
  },
  {
   "cell_type": "code",
   "execution_count": 14,
   "metadata": {},
   "outputs": [
    {
     "data": {
      "text/plain": [
       "5.0"
      ]
     },
     "execution_count": 14,
     "metadata": {},
     "output_type": "execute_result"
    }
   ],
   "source": [
    "F_approx(x, f_constant, n)"
   ]
  },
  {
   "cell_type": "markdown",
   "metadata": {},
   "source": [
    "### f_constant(S): Values of the gradients using multi-linear extension"
   ]
  },
  {
   "cell_type": "markdown",
   "metadata": {},
   "source": [
    "without sampling"
   ]
  },
  {
   "cell_type": "code",
   "execution_count": 15,
   "metadata": {
    "scrolled": true
   },
   "outputs": [
    {
     "data": {
      "text/plain": [
       "array([0., 0., 0., 0., 0., 0., 0., 0., 0., 0.])"
      ]
     },
     "execution_count": 15,
     "metadata": {},
     "output_type": "execute_result"
    }
   ],
   "source": [
    "get_gradient_F(F_approx, x, f_constant)"
   ]
  },
  {
   "cell_type": "markdown",
   "metadata": {},
   "source": [
    "With sampling"
   ]
  },
  {
   "cell_type": "code",
   "execution_count": 16,
   "metadata": {
    "scrolled": true
   },
   "outputs": [
    {
     "data": {
      "text/plain": [
       "array([0., 0., 0., 0., 0., 0., 0., 0., 0., 0.])"
      ]
     },
     "execution_count": 16,
     "metadata": {},
     "output_type": "execute_result"
    }
   ],
   "source": [
    "get_gradient_F(F, x, f_constant)"
   ]
  },
  {
   "cell_type": "code",
   "execution_count": 17,
   "metadata": {},
   "outputs": [
    {
     "name": "stdout",
     "output_type": "stream",
     "text": [
      "Iterations:  1 \n",
      "\n",
      "Initial F:  5.0\n",
      "Initial x:  [0.60864154 0.59242361 0.28103739 0.0399254  0.28637369 0.20680814\n",
      " 0.06964326 0.2896193  0.09642411 0.3582047 ] \n",
      "\n",
      "Final F:  5.0\n",
      "Final x:  [0.60864154 0.59242361 0.28103739 0.0399254  0.28637369 0.20680814\n",
      " 0.06964326 0.2896193  0.09642411 0.3582047 ] \n",
      "\n"
     ]
    },
    {
     "data": {
      "text/plain": [
       "(1,\n",
       " 5.0,\n",
       " array([0.60864154, 0.59242361, 0.28103739, 0.0399254 , 0.28637369,\n",
       "        0.20680814, 0.06964326, 0.2896193 , 0.09642411, 0.3582047 ]))"
      ]
     },
     "execution_count": 17,
     "metadata": {},
     "output_type": "execute_result"
    }
   ],
   "source": [
    "gradient_ascent(F_approx, x, f_constant, n, alpha)"
   ]
  },
  {
   "cell_type": "markdown",
   "metadata": {},
   "source": [
    "## Linear function f(S)"
   ]
  },
  {
   "cell_type": "code",
   "execution_count": 18,
   "metadata": {
    "scrolled": true
   },
   "outputs": [
    {
     "data": {
      "text/plain": [
       "array([-0.59340562, -0.46974944,  0.78174473, -0.15895207, -0.31314228,\n",
       "        0.36204542,  0.75484021, -0.38326327, -0.96412591,  0.97059805])"
      ]
     },
     "execution_count": 18,
     "metadata": {},
     "output_type": "execute_result"
    }
   ],
   "source": [
    "a = np.random.uniform(-1,1, n)\n",
    "a"
   ]
  },
  {
   "cell_type": "code",
   "execution_count": 19,
   "metadata": {},
   "outputs": [],
   "source": [
    "def f_linear(S):\n",
    "    \n",
    "    #convert S to 0,1\n",
    "    s_hat = np.zeros(n)\n",
    "    \n",
    "    for i in range(len(S)):\n",
    "        \n",
    "        s_hat[S[i]-1] = 1\n",
    "        \n",
    "    return np.dot(a,s_hat)"
   ]
  },
  {
   "cell_type": "markdown",
   "metadata": {},
   "source": [
    "### f_linear: Values of the function"
   ]
  },
  {
   "cell_type": "markdown",
   "metadata": {},
   "source": [
    "Actual value"
   ]
  },
  {
   "cell_type": "code",
   "execution_count": 20,
   "metadata": {
    "scrolled": true
   },
   "outputs": [
    {
     "data": {
      "text/plain": [
       "-1.063155056177732"
      ]
     },
     "execution_count": 20,
     "metadata": {},
     "output_type": "execute_result"
    }
   ],
   "source": [
    "f_linear(S)"
   ]
  },
  {
   "cell_type": "markdown",
   "metadata": {},
   "source": [
    "Multi-linear extenstion"
   ]
  },
  {
   "cell_type": "code",
   "execution_count": 21,
   "metadata": {},
   "outputs": [
    {
     "data": {
      "text/plain": [
       "-0.2446335748928383"
      ]
     },
     "execution_count": 21,
     "metadata": {},
     "output_type": "execute_result"
    }
   ],
   "source": [
    "F(x, f_linear, n)"
   ]
  },
  {
   "cell_type": "markdown",
   "metadata": {},
   "source": [
    "Mutli-linear extension with sampling"
   ]
  },
  {
   "cell_type": "code",
   "execution_count": 22,
   "metadata": {},
   "outputs": [
    {
     "data": {
      "text/plain": [
       "-0.24874924686329497"
      ]
     },
     "execution_count": 22,
     "metadata": {},
     "output_type": "execute_result"
    }
   ],
   "source": [
    "F_approx(x, f_linear, n)"
   ]
  },
  {
   "cell_type": "markdown",
   "metadata": {},
   "source": [
    "### f_linear: Values of the gradient using multi-linear extension"
   ]
  },
  {
   "cell_type": "markdown",
   "metadata": {},
   "source": [
    "without sampling"
   ]
  },
  {
   "cell_type": "code",
   "execution_count": 23,
   "metadata": {
    "scrolled": true
   },
   "outputs": [
    {
     "data": {
      "text/plain": [
       "array([-0.71868911, -0.49783078,  0.82600399, -0.08793915, -0.31921905,\n",
       "        0.34367244,  0.78437371, -0.27998569, -0.94639274,  0.92237508])"
      ]
     },
     "execution_count": 23,
     "metadata": {},
     "output_type": "execute_result"
    }
   ],
   "source": [
    "get_gradient_F(F_approx, x, f_linear)"
   ]
  },
  {
   "cell_type": "markdown",
   "metadata": {},
   "source": [
    "With sampling"
   ]
  },
  {
   "cell_type": "code",
   "execution_count": 24,
   "metadata": {
    "scrolled": false
   },
   "outputs": [
    {
     "data": {
      "text/plain": [
       "array([-0.59340562, -0.46974944,  0.78174473, -0.15895207, -0.31314228,\n",
       "        0.36204542,  0.75484021, -0.38326327, -0.96412591,  0.97059805])"
      ]
     },
     "execution_count": 24,
     "metadata": {},
     "output_type": "execute_result"
    }
   ],
   "source": [
    "get_gradient_F(F, x, f_linear)"
   ]
  },
  {
   "cell_type": "code",
   "execution_count": 25,
   "metadata": {},
   "outputs": [
    {
     "name": "stdout",
     "output_type": "stream",
     "text": [
      "Iterations:  5 \n",
      "\n",
      "Initial F:  -0.15323869856413377\n",
      "Initial x:  [0.60864154 0.59242361 0.28103739 0.0399254  0.28637369 0.20680814\n",
      " 0.06964326 0.2896193  0.09642411 0.3582047 ] \n",
      "\n",
      "Final F:  -0.0635314119519878\n",
      "Final x:  [0.57851936 0.56959181 0.31921225 0.0300579  0.27056291 0.22581036\n",
      " 0.10726583 0.27336616 0.04600029 0.40545071] \n",
      "\n"
     ]
    },
    {
     "data": {
      "text/plain": [
       "(5,\n",
       " -0.0635314119519878,\n",
       " array([0.57851936, 0.56959181, 0.31921225, 0.0300579 , 0.27056291,\n",
       "        0.22581036, 0.10726583, 0.27336616, 0.04600029, 0.40545071]))"
      ]
     },
     "execution_count": 25,
     "metadata": {},
     "output_type": "execute_result"
    }
   ],
   "source": [
    "gradient_ascent(F_approx, x, f_linear, n, alpha)"
   ]
  },
  {
   "cell_type": "markdown",
   "metadata": {},
   "source": [
    "## Polynomial f(S) function"
   ]
  },
  {
   "cell_type": "code",
   "execution_count": 26,
   "metadata": {},
   "outputs": [],
   "source": [
    "def f_polynomial(S):\n",
    "    \n",
    "    #convert S to 0,1\n",
    "    s_hat = np.zeros(n)\n",
    "    \n",
    "    for i in range(len(S)):\n",
    "        \n",
    "        s_hat[S[i]-1] = 1\n",
    "        \n",
    "    a_hat = s_hat*a\n",
    "    \n",
    "    return np.dot(a_hat,a_hat)"
   ]
  },
  {
   "cell_type": "markdown",
   "metadata": {},
   "source": [
    "### f_polynomial: Values of function"
   ]
  },
  {
   "cell_type": "markdown",
   "metadata": {},
   "source": [
    "Actual value"
   ]
  },
  {
   "cell_type": "code",
   "execution_count": 27,
   "metadata": {
    "scrolled": false
   },
   "outputs": [
    {
     "data": {
      "text/plain": [
       "0.5727947625533779"
      ]
     },
     "execution_count": 27,
     "metadata": {},
     "output_type": "execute_result"
    }
   ],
   "source": [
    "f_polynomial(S)"
   ]
  },
  {
   "cell_type": "markdown",
   "metadata": {},
   "source": [
    "Multi-linear extension "
   ]
  },
  {
   "cell_type": "code",
   "execution_count": 28,
   "metadata": {},
   "outputs": [
    {
     "data": {
      "text/plain": [
       "1.1073616955006014"
      ]
     },
     "execution_count": 28,
     "metadata": {},
     "output_type": "execute_result"
    }
   ],
   "source": [
    "F(x, f_polynomial, n)"
   ]
  },
  {
   "cell_type": "markdown",
   "metadata": {},
   "source": [
    "Multi-linear extenstion with sampling"
   ]
  },
  {
   "cell_type": "code",
   "execution_count": 29,
   "metadata": {
    "scrolled": true
   },
   "outputs": [
    {
     "data": {
      "text/plain": [
       "1.1013232195713976"
      ]
     },
     "execution_count": 29,
     "metadata": {},
     "output_type": "execute_result"
    }
   ],
   "source": [
    "F_approx(x, f_polynomial, n)"
   ]
  },
  {
   "cell_type": "markdown",
   "metadata": {},
   "source": [
    "### f_polynomial: Values of gradients using multi-linear approximation"
   ]
  },
  {
   "cell_type": "markdown",
   "metadata": {},
   "source": [
    "Without sampling"
   ]
  },
  {
   "cell_type": "code",
   "execution_count": 30,
   "metadata": {},
   "outputs": [
    {
     "data": {
      "text/plain": [
       "array([0.27245502, 0.20252281, 0.55593714, 0.03396413, 0.06243236,\n",
       "       0.02377324, 0.5370976 , 0.2007551 , 0.91667946, 0.9513077 ])"
      ]
     },
     "execution_count": 30,
     "metadata": {},
     "output_type": "execute_result"
    }
   ],
   "source": [
    "get_gradient_F(F_approx, x, f_polynomial)"
   ]
  },
  {
   "cell_type": "markdown",
   "metadata": {},
   "source": [
    "With sampling"
   ]
  },
  {
   "cell_type": "code",
   "execution_count": 31,
   "metadata": {
    "scrolled": true
   },
   "outputs": [
    {
     "data": {
      "text/plain": [
       "array([0.35213023, 0.22066453, 0.61112482, 0.02526576, 0.09805809,\n",
       "       0.13107689, 0.56978374, 0.14689073, 0.92953876, 0.94206058])"
      ]
     },
     "execution_count": 31,
     "metadata": {},
     "output_type": "execute_result"
    }
   ],
   "source": [
    "get_gradient_F(F, x, f_polynomial)"
   ]
  },
  {
   "cell_type": "code",
   "execution_count": 32,
   "metadata": {},
   "outputs": [
    {
     "name": "stdout",
     "output_type": "stream",
     "text": [
      "Iterations:  104 \n",
      "\n",
      "Initial F:  1.1073616955006014\n",
      "Initial x:  [0.57851936 0.56959181 0.31921225 0.0300579  0.27056291 0.22581036\n",
      " 0.10726583 0.27336616 0.04600029 0.40545071] \n",
      "\n",
      "Final F:  3.5108633219924843\n",
      "Final x:  [0.9447348  0.79908292 0.95478206 0.05633429 0.37254332 0.36213033\n",
      " 0.69984092 0.42613252 1.         1.        ] \n",
      "\n"
     ]
    },
    {
     "data": {
      "text/plain": [
       "(104,\n",
       " 3.5108633219924843,\n",
       " array([0.9447348 , 0.79908292, 0.95478206, 0.05633429, 0.37254332,\n",
       "        0.36213033, 0.69984092, 0.42613252, 1.        , 1.        ]))"
      ]
     },
     "execution_count": 32,
     "metadata": {},
     "output_type": "execute_result"
    }
   ],
   "source": [
    "gradient_ascent(F, x, f_polynomial, n, alpha)"
   ]
  },
  {
   "cell_type": "code",
   "execution_count": null,
   "metadata": {},
   "outputs": [],
   "source": []
  }
 ],
 "metadata": {
  "kernelspec": {
   "display_name": "Python 3",
   "language": "python",
   "name": "python3"
  },
  "language_info": {
   "codemirror_mode": {
    "name": "ipython",
    "version": 3
   },
   "file_extension": ".py",
   "mimetype": "text/x-python",
   "name": "python",
   "nbconvert_exporter": "python",
   "pygments_lexer": "ipython3",
   "version": "3.6.10"
  }
 },
 "nbformat": 4,
 "nbformat_minor": 2
}
