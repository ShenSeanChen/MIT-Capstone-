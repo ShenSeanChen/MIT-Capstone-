{
 "cells": [
  {
   "cell_type": "code",
   "execution_count": 1,
   "metadata": {},
   "outputs": [],
   "source": [
    "import random\n",
    "import numpy as np\n",
    "import itertools\n",
    "import copy"
   ]
  },
  {
   "cell_type": "markdown",
   "metadata": {},
   "source": [
    "### Powerset of S\n",
    "\n",
    "The function might not be needed for now"
   ]
  },
  {
   "cell_type": "code",
   "execution_count": 2,
   "metadata": {},
   "outputs": [],
   "source": [
    "def powerset(s):\n",
    "    x = len(s)\n",
    "    power_set = []\n",
    "    for i in range(1 << x):\n",
    "       power_set.append([s[j] for j in range(x) if (i & (1 << j))])\n",
    "\n",
    "    return power_set"
   ]
  },
  {
   "cell_type": "markdown",
   "metadata": {},
   "source": [
    "### F(x) without sampling"
   ]
  },
  {
   "cell_type": "code",
   "execution_count": 3,
   "metadata": {},
   "outputs": [],
   "source": [
    "def F(x, f, n):\n",
    "    \n",
    "    A = [np.array(i) for i in itertools.product([0, 1], repeat = n)]\n",
    "    \n",
    "    val_S = 0\n",
    "\n",
    "    for i in range(len(A)):\n",
    "\n",
    "        prod_in_s = 1\n",
    "        prod_not_in_s = 1\n",
    "        S = []\n",
    "\n",
    "        for j in range(len(A[i])):\n",
    "            if A[i][j] == 1:\n",
    "                prod_in_s = prod_in_s*x[j]\n",
    "                S.append(j+1)\n",
    "            else:\n",
    "                prod_not_in_s = prod_not_in_s*(1-x[j])\n",
    "\n",
    "        val_S = val_S + f(S)*prod_in_s*prod_not_in_s\n",
    "    \n",
    "    return val_S"
   ]
  },
  {
   "cell_type": "markdown",
   "metadata": {},
   "source": [
    "### Approximation of F(x) using sampling \n",
    "With t being the number of samples for estimation"
   ]
  },
  {
   "cell_type": "code",
   "execution_count": 4,
   "metadata": {},
   "outputs": [],
   "source": [
    "def F_approx(x, f, n):\n",
    "    \n",
    "    t= 320\n",
    "    sum_R = 0\n",
    "    \n",
    "    for i in range(t):\n",
    "            \n",
    "        x_bar = np.random.uniform(0,1, n)\n",
    "        r_t = x >= x_bar\n",
    "        R_t = []\n",
    "            \n",
    "        for i in range(len(r_t)):\n",
    "\n",
    "            if r_t[i] == True:\n",
    "                R_t.append(i+1)\n",
    "                \n",
    "        sum_R = sum_R + f(R_t)\n",
    "#         print(sum_R)\n",
    "\n",
    "    return sum_R/t"
   ]
  },
  {
   "cell_type": "markdown",
   "metadata": {},
   "source": [
    "### Compute First Order Gradients of F"
   ]
  },
  {
   "cell_type": "code",
   "execution_count": 5,
   "metadata": {},
   "outputs": [],
   "source": [
    "def get_gradient_F_for_i(F, x, f, n, i):\n",
    "\n",
    "\n",
    "    x_without_i = copy.deepcopy(x)\n",
    "    x_without_i[i] = 0.0\n",
    "\n",
    "    x_with_i = copy.deepcopy(x)\n",
    "    x_with_i[i] = 1.0\n",
    "\n",
    "    # print('x with xi: ', x_with_i)\n",
    "    # print('x without xi: ', x_without_i)\n",
    "\n",
    "    df_dxi = F(x_with_i, f, n) - F(x_without_i, f, n)\n",
    "    return df_dxi"
   ]
  },
  {
   "cell_type": "code",
   "execution_count": 6,
   "metadata": {},
   "outputs": [],
   "source": [
    "def get_gradient_F(F, x, f):\n",
    "    \n",
    "    n = len(x)\n",
    "    \n",
    "    grad = np.zeros(len(x))\n",
    "    \n",
    "    for i in range(len(x)):\n",
    "        \n",
    "        grad[i] = get_gradient_F_for_i(F, x, f, n, i)\n",
    "    \n",
    "    return grad"
   ]
  },
  {
   "cell_type": "markdown",
   "metadata": {},
   "source": [
    "### Gradient Ascent Method"
   ]
  },
  {
   "cell_type": "code",
   "execution_count": 33,
   "metadata": {},
   "outputs": [],
   "source": [
    "# stepsize for gradient ascent\n",
    "alpha = 0.01\n",
    "\n",
    "def gradient_ascent(F, x, f, n, alpha):\n",
    "    \n",
    "    x_init = copy.deepcopy(x)\n",
    "    sum_init = F(x, f, n)\n",
    "    # key values to be used\n",
    "    sum_update = 0\n",
    "    iter = 0\n",
    "    sum_temp = copy.deepcopy(sum_init)\n",
    "\n",
    "    # start updating the parameters x with iterative gradients\n",
    "    while np.abs(sum_temp - sum_update) > 10 ** (-2):\n",
    "        iter += 1\n",
    "        sum_temp = F(x, f, n)\n",
    "\n",
    "        for i in range(n):\n",
    "            grad_i = get_gradient_F_for_i(F, x, f, n, i)\n",
    "            x[i] = np.maximum(np.minimum(x[i] + alpha * grad_i, 1.0), 0.0)\n",
    "\n",
    "        sum_update = F(x, f, n)\n",
    "\n",
    "#         print('x updated: ', x)\n",
    "#         print('sum updated: ', sum_update)\n",
    "\n",
    "    print('Iterations: ', iter, '\\n')\n",
    "    print('Initial F: ', sum_init)\n",
    "    print('Initial x: ', x_init, '\\n')\n",
    "    print('Final F: ', sum_update)\n",
    "    print('Final x: ', x, '\\n')\n",
    "    return iter, sum_update, x"
   ]
  },
  {
   "cell_type": "markdown",
   "metadata": {},
   "source": [
    "## Testing\n",
    "\n",
    "With different versions of f: 2^S -> R"
   ]
  },
  {
   "cell_type": "markdown",
   "metadata": {},
   "source": [
    "Define the size of the problem (n) "
   ]
  },
  {
   "cell_type": "code",
   "execution_count": 8,
   "metadata": {
    "scrolled": false
   },
   "outputs": [],
   "source": [
    "n = 10\n",
    "N = [(i+1) for i in range(n)]"
   ]
  },
  {
   "cell_type": "markdown",
   "metadata": {},
   "source": [
    "Initialize an x vector"
   ]
  },
  {
   "cell_type": "code",
   "execution_count": 9,
   "metadata": {},
   "outputs": [
    {
     "name": "stdout",
     "output_type": "stream",
     "text": [
      "x:  [0.03583974 0.88906165 0.24499298 0.7325391  0.62227373 0.21917022\n",
      " 0.57768125 0.04821214 0.25206252 0.26753664]\n"
     ]
    }
   ],
   "source": [
    "x = np.random.uniform(0,1, n)\n",
    "print(\"x: \", x)"
   ]
  },
  {
   "cell_type": "markdown",
   "metadata": {},
   "source": [
    "The corresponding S vector with 0.5 as the cutting line"
   ]
  },
  {
   "cell_type": "code",
   "execution_count": 10,
   "metadata": {},
   "outputs": [
    {
     "name": "stdout",
     "output_type": "stream",
     "text": [
      "S:  [2, 4, 5, 7]\n"
     ]
    }
   ],
   "source": [
    "x_bar = 0.5*np.ones(len(x))\n",
    "s = x >= x_bar\n",
    "S = []\n",
    "            \n",
    "for i in range(len(s)):\n",
    "    if s[i] == True:\n",
    "        S.append(i+1)\n",
    "\n",
    "print(\"S: \", S)"
   ]
  },
  {
   "cell_type": "markdown",
   "metadata": {},
   "source": [
    "## Constant function f(s)"
   ]
  },
  {
   "cell_type": "code",
   "execution_count": 11,
   "metadata": {},
   "outputs": [],
   "source": [
    "def f_constant(S):\n",
    "    return 5"
   ]
  },
  {
   "cell_type": "markdown",
   "metadata": {},
   "source": [
    "### f_constant(S): Values of the function "
   ]
  },
  {
   "cell_type": "markdown",
   "metadata": {},
   "source": [
    "Actual value"
   ]
  },
  {
   "cell_type": "code",
   "execution_count": 12,
   "metadata": {
    "scrolled": true
   },
   "outputs": [
    {
     "data": {
      "text/plain": [
       "5"
      ]
     },
     "execution_count": 12,
     "metadata": {},
     "output_type": "execute_result"
    }
   ],
   "source": [
    "f_constant(S)"
   ]
  },
  {
   "cell_type": "markdown",
   "metadata": {},
   "source": [
    "Multi-linear extenstion"
   ]
  },
  {
   "cell_type": "code",
   "execution_count": 13,
   "metadata": {},
   "outputs": [
    {
     "data": {
      "text/plain": [
       "4.999999999999998"
      ]
     },
     "execution_count": 13,
     "metadata": {},
     "output_type": "execute_result"
    }
   ],
   "source": [
    "F(x, f_constant, n)"
   ]
  },
  {
   "cell_type": "markdown",
   "metadata": {},
   "source": [
    "Mutli-linear extension with sampling"
   ]
  },
  {
   "cell_type": "code",
   "execution_count": 14,
   "metadata": {},
   "outputs": [
    {
     "data": {
      "text/plain": [
       "5.0"
      ]
     },
     "execution_count": 14,
     "metadata": {},
     "output_type": "execute_result"
    }
   ],
   "source": [
    "F_approx(x, f_constant, n)"
   ]
  },
  {
   "cell_type": "markdown",
   "metadata": {},
   "source": [
    "### f_constant(S): Values of the gradients using multi-linear extension"
   ]
  },
  {
   "cell_type": "markdown",
   "metadata": {},
   "source": [
    "without sampling"
   ]
  },
  {
   "cell_type": "code",
   "execution_count": 15,
   "metadata": {
    "scrolled": true
   },
   "outputs": [
    {
     "data": {
      "text/plain": [
       "array([0., 0., 0., 0., 0., 0., 0., 0., 0., 0.])"
      ]
     },
     "execution_count": 15,
     "metadata": {},
     "output_type": "execute_result"
    }
   ],
   "source": [
    "get_gradient_F(F_approx, x, f_constant)"
   ]
  },
  {
   "cell_type": "markdown",
   "metadata": {},
   "source": [
    "With sampling"
   ]
  },
  {
   "cell_type": "code",
   "execution_count": 16,
   "metadata": {
    "scrolled": true
   },
   "outputs": [
    {
     "data": {
      "text/plain": [
       "array([0., 0., 0., 0., 0., 0., 0., 0., 0., 0.])"
      ]
     },
     "execution_count": 16,
     "metadata": {},
     "output_type": "execute_result"
    }
   ],
   "source": [
    "get_gradient_F(F, x, f_constant)"
   ]
  },
  {
   "cell_type": "code",
   "execution_count": 17,
   "metadata": {},
   "outputs": [
    {
     "name": "stdout",
     "output_type": "stream",
     "text": [
      "Iterations:  1 \n",
      "\n",
      "Initial F:  5.0\n",
      "Initial x:  [0.03583974 0.88906165 0.24499298 0.7325391  0.62227373 0.21917022\n",
      " 0.57768125 0.04821214 0.25206252 0.26753664] \n",
      "\n",
      "Final F:  5.0\n",
      "Final x:  [0.03583974 0.88906165 0.24499298 0.7325391  0.62227373 0.21917022\n",
      " 0.57768125 0.04821214 0.25206252 0.26753664] \n",
      "\n"
     ]
    },
    {
     "data": {
      "text/plain": [
       "(1, 5.0, array([0.03583974, 0.88906165, 0.24499298, 0.7325391 , 0.62227373,\n",
       "        0.21917022, 0.57768125, 0.04821214, 0.25206252, 0.26753664]))"
      ]
     },
     "execution_count": 17,
     "metadata": {},
     "output_type": "execute_result"
    }
   ],
   "source": [
    "gradient_ascent(F_approx, x, f_constant, n, alpha)"
   ]
  },
  {
   "cell_type": "markdown",
   "metadata": {},
   "source": [
    "## Linear function f(S)"
   ]
  },
  {
   "cell_type": "code",
   "execution_count": 18,
   "metadata": {
    "scrolled": true
   },
   "outputs": [
    {
     "data": {
      "text/plain": [
       "array([-0.63188207,  0.08831198, -0.60805721,  0.81349217,  0.03244662,\n",
       "       -0.27458289, -0.31173375,  0.69823574,  0.75833498,  0.59623076])"
      ]
     },
     "execution_count": 18,
     "metadata": {},
     "output_type": "execute_result"
    }
   ],
   "source": [
    "a = np.random.uniform(-1,1, n)\n",
    "a"
   ]
  },
  {
   "cell_type": "code",
   "execution_count": 19,
   "metadata": {},
   "outputs": [],
   "source": [
    "def f_linear(S):\n",
    "    \n",
    "    #convert S to 0,1\n",
    "    s_hat = np.zeros(n)\n",
    "    \n",
    "    for i in range(len(S)):\n",
    "        \n",
    "        s_hat[S[i]-1] = 1\n",
    "        \n",
    "    return np.dot(a,s_hat)"
   ]
  },
  {
   "cell_type": "markdown",
   "metadata": {},
   "source": [
    "### f_linear: Values of the function"
   ]
  },
  {
   "cell_type": "markdown",
   "metadata": {},
   "source": [
    "Actual value"
   ]
  },
  {
   "cell_type": "code",
   "execution_count": 20,
   "metadata": {
    "scrolled": true
   },
   "outputs": [
    {
     "data": {
      "text/plain": [
       "0.6225170168463876"
      ]
     },
     "execution_count": 20,
     "metadata": {},
     "output_type": "execute_result"
    }
   ],
   "source": [
    "f_linear(S)"
   ]
  },
  {
   "cell_type": "markdown",
   "metadata": {},
   "source": [
    "Multi-linear extenstion"
   ]
  },
  {
   "cell_type": "code",
   "execution_count": 21,
   "metadata": {},
   "outputs": [
    {
     "data": {
      "text/plain": [
       "0.6670657602255967"
      ]
     },
     "execution_count": 21,
     "metadata": {},
     "output_type": "execute_result"
    }
   ],
   "source": [
    "F(x, f_linear, n)"
   ]
  },
  {
   "cell_type": "markdown",
   "metadata": {},
   "source": [
    "Mutli-linear extension with sampling"
   ]
  },
  {
   "cell_type": "code",
   "execution_count": 22,
   "metadata": {},
   "outputs": [
    {
     "data": {
      "text/plain": [
       "0.6888180265106619"
      ]
     },
     "execution_count": 22,
     "metadata": {},
     "output_type": "execute_result"
    }
   ],
   "source": [
    "F_approx(x, f_linear, n)"
   ]
  },
  {
   "cell_type": "markdown",
   "metadata": {},
   "source": [
    "### f_linear: Values of the gradient using multi-linear extension"
   ]
  },
  {
   "cell_type": "markdown",
   "metadata": {},
   "source": [
    "without sampling"
   ]
  },
  {
   "cell_type": "code",
   "execution_count": 23,
   "metadata": {
    "scrolled": true
   },
   "outputs": [
    {
     "data": {
      "text/plain": [
       "array([-0.64164307,  0.16864192, -0.63937358,  0.84604245, -0.08155616,\n",
       "       -0.24682978, -0.21028246,  0.72467514,  0.7473458 ,  0.52179105])"
      ]
     },
     "execution_count": 23,
     "metadata": {},
     "output_type": "execute_result"
    }
   ],
   "source": [
    "get_gradient_F(F_approx, x, f_linear)"
   ]
  },
  {
   "cell_type": "markdown",
   "metadata": {},
   "source": [
    "With sampling"
   ]
  },
  {
   "cell_type": "code",
   "execution_count": 24,
   "metadata": {
    "scrolled": false
   },
   "outputs": [
    {
     "data": {
      "text/plain": [
       "array([-0.63188207,  0.08831198, -0.60805721,  0.81349217,  0.03244662,\n",
       "       -0.27458289, -0.31173375,  0.69823574,  0.75833498,  0.59623076])"
      ]
     },
     "execution_count": 24,
     "metadata": {},
     "output_type": "execute_result"
    }
   ],
   "source": [
    "get_gradient_F(F, x, f_linear)"
   ]
  },
  {
   "cell_type": "code",
   "execution_count": 25,
   "metadata": {},
   "outputs": [
    {
     "name": "stdout",
     "output_type": "stream",
     "text": [
      "Iterations:  3 \n",
      "\n",
      "Initial F:  0.6524808811904763\n",
      "Initial x:  [0.03583974 0.88906165 0.24499298 0.7325391  0.62227373 0.21917022\n",
      " 0.57768125 0.04821214 0.25206252 0.26753664] \n",
      "\n",
      "Final F:  0.7415049117058665\n",
      "Final x:  [0.01600258 0.88990733 0.22700764 0.75815102 0.62317245 0.21033301\n",
      " 0.569257   0.06977959 0.27386293 0.2859739 ] \n",
      "\n"
     ]
    },
    {
     "data": {
      "text/plain": [
       "(3,\n",
       " 0.7415049117058665,\n",
       " array([0.01600258, 0.88990733, 0.22700764, 0.75815102, 0.62317245,\n",
       "        0.21033301, 0.569257  , 0.06977959, 0.27386293, 0.2859739 ]))"
      ]
     },
     "execution_count": 25,
     "metadata": {},
     "output_type": "execute_result"
    }
   ],
   "source": [
    "gradient_ascent(F_approx, x, f_linear, n, alpha)"
   ]
  },
  {
   "cell_type": "markdown",
   "metadata": {},
   "source": [
    "## Polynomial f(S) function"
   ]
  },
  {
   "cell_type": "code",
   "execution_count": 26,
   "metadata": {},
   "outputs": [],
   "source": [
    "def f_polynomial(S):\n",
    "    \n",
    "    #convert S to 0,1\n",
    "    s_hat = np.zeros(n)\n",
    "    \n",
    "    for i in range(len(S)):\n",
    "        \n",
    "        s_hat[S[i]-1] = 1\n",
    "        \n",
    "    a_hat = s_hat*a\n",
    "    \n",
    "    return np.dot(a_hat,a_hat)"
   ]
  },
  {
   "cell_type": "markdown",
   "metadata": {},
   "source": [
    "### f_polynomial: Values of function"
   ]
  },
  {
   "cell_type": "markdown",
   "metadata": {},
   "source": [
    "Actual value"
   ]
  },
  {
   "cell_type": "code",
   "execution_count": 27,
   "metadata": {
    "scrolled": false
   },
   "outputs": [
    {
     "data": {
      "text/plain": [
       "0.7677992330689309"
      ]
     },
     "execution_count": 27,
     "metadata": {},
     "output_type": "execute_result"
    }
   ],
   "source": [
    "f_polynomial(S)"
   ]
  },
  {
   "cell_type": "markdown",
   "metadata": {},
   "source": [
    "Multi-linear extension "
   ]
  },
  {
   "cell_type": "code",
   "execution_count": 28,
   "metadata": {},
   "outputs": [
    {
     "data": {
      "text/plain": [
       "0.9639888383026298"
      ]
     },
     "execution_count": 28,
     "metadata": {},
     "output_type": "execute_result"
    }
   ],
   "source": [
    "F(x, f_polynomial, n)"
   ]
  },
  {
   "cell_type": "markdown",
   "metadata": {},
   "source": [
    "Multi-linear extenstion with sampling"
   ]
  },
  {
   "cell_type": "code",
   "execution_count": 29,
   "metadata": {
    "scrolled": true
   },
   "outputs": [
    {
     "data": {
      "text/plain": [
       "0.9625391973361122"
      ]
     },
     "execution_count": 29,
     "metadata": {},
     "output_type": "execute_result"
    }
   ],
   "source": [
    "F_approx(x, f_polynomial, n)"
   ]
  },
  {
   "cell_type": "markdown",
   "metadata": {},
   "source": [
    "### f_polynomial: Values of gradients using multi-linear approximation"
   ]
  },
  {
   "cell_type": "markdown",
   "metadata": {},
   "source": [
    "Without sampling"
   ]
  },
  {
   "cell_type": "code",
   "execution_count": 30,
   "metadata": {},
   "outputs": [
    {
     "data": {
      "text/plain": [
       "array([ 0.35968676,  0.01308451,  0.39718583,  0.63277596, -0.03211326,\n",
       "        0.11702443,  0.09884914,  0.5220461 ,  0.62158935,  0.36283615])"
      ]
     },
     "execution_count": 30,
     "metadata": {},
     "output_type": "execute_result"
    }
   ],
   "source": [
    "get_gradient_F(F_approx, x, f_polynomial)"
   ]
  },
  {
   "cell_type": "markdown",
   "metadata": {},
   "source": [
    "With sampling"
   ]
  },
  {
   "cell_type": "code",
   "execution_count": 31,
   "metadata": {
    "scrolled": true
   },
   "outputs": [
    {
     "data": {
      "text/plain": [
       "array([0.39927495, 0.00779901, 0.36973357, 0.66176951, 0.00105278,\n",
       "       0.07539576, 0.09717793, 0.48753314, 0.57507194, 0.35549112])"
      ]
     },
     "execution_count": 31,
     "metadata": {},
     "output_type": "execute_result"
    }
   ],
   "source": [
    "get_gradient_F(F, x, f_polynomial)"
   ]
  },
  {
   "cell_type": "code",
   "execution_count": 32,
   "metadata": {},
   "outputs": [
    {
     "name": "stdout",
     "output_type": "stream",
     "text": [
      "Iterations:  127 \n",
      "\n",
      "Initial F:  0.9639888383026298\n",
      "Initial x:  [0.01600258 0.88990733 0.22700764 0.75815102 0.62317245 0.21033301\n",
      " 0.569257   0.06977959 0.27386293 0.2859739 ] \n",
      "\n",
      "Final F:  2.399345573228277\n",
      "Final x:  [0.52308177 0.89981206 0.69656927 1.         0.62450948 0.30608562\n",
      " 0.69267297 0.68894669 1.         0.73744763] \n",
      "\n"
     ]
    },
    {
     "data": {
      "text/plain": [
       "(127,\n",
       " 2.399345573228277,\n",
       " array([0.52308177, 0.89981206, 0.69656927, 1.        , 0.62450948,\n",
       "        0.30608562, 0.69267297, 0.68894669, 1.        , 0.73744763]))"
      ]
     },
     "execution_count": 32,
     "metadata": {},
     "output_type": "execute_result"
    }
   ],
   "source": [
    "gradient_ascent(F, x, f_polynomial, n, alpha)"
   ]
  }
 ],
 "metadata": {
  "kernelspec": {
   "display_name": "Python 3",
   "language": "python",
   "name": "python3"
  },
  "language_info": {
   "codemirror_mode": {
    "name": "ipython",
    "version": 3
   },
   "file_extension": ".py",
   "mimetype": "text/x-python",
   "name": "python",
   "nbconvert_exporter": "python",
   "pygments_lexer": "ipython3",
   "version": "3.6.10"
  }
 },
 "nbformat": 4,
 "nbformat_minor": 2
}
