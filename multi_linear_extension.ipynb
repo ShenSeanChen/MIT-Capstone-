{
 "cells": [
  {
   "cell_type": "code",
   "execution_count": 1,
   "metadata": {},
   "outputs": [],
   "source": [
    "import random\n",
    "import numpy as np\n",
    "import itertools\n",
    "import copy"
   ]
  },
  {
   "cell_type": "markdown",
   "metadata": {},
   "source": [
    "## Convert x to S"
   ]
  },
  {
   "cell_type": "code",
   "execution_count": 78,
   "metadata": {},
   "outputs": [],
   "source": [
    "def convert_x_to_S(x):\n",
    "    x_bar = 0.5*np.ones(len(x))\n",
    "    s = x >= x_bar\n",
    "    S = []\n",
    "\n",
    "    for i in range(len(s)):\n",
    "\n",
    "        if s[i] == True:\n",
    "            S.append(i+1)\n",
    "    \n",
    "    return S"
   ]
  },
  {
   "cell_type": "markdown",
   "metadata": {},
   "source": [
    "### F(x) without sampling (not used)"
   ]
  },
  {
   "cell_type": "code",
   "execution_count": 38,
   "metadata": {},
   "outputs": [],
   "source": [
    "def F_without_sampling(x, f, n, t):\n",
    "    \n",
    "    A = [np.array(i) for i in itertools.product([0, 1], repeat = n)]\n",
    "    \n",
    "    val_S = 0\n",
    "\n",
    "    for i in range(len(A)):\n",
    "\n",
    "        prod_in_s = 1\n",
    "        prod_not_in_s = 1\n",
    "        S = []\n",
    "\n",
    "        for j in range(len(A[i])):\n",
    "            if A[i][j] == 1:\n",
    "                prod_in_s = prod_in_s*x[j]\n",
    "                S.append(j+1)\n",
    "            else:\n",
    "                prod_not_in_s = prod_not_in_s*(1-x[j])\n",
    "\n",
    "        val_S = val_S + f(S)*prod_in_s*prod_not_in_s\n",
    "    \n",
    "    return val_S"
   ]
  },
  {
   "cell_type": "markdown",
   "metadata": {},
   "source": [
    "### Approximation of F(x) using sampling \n",
    "define t"
   ]
  },
  {
   "cell_type": "code",
   "execution_count": 39,
   "metadata": {},
   "outputs": [],
   "source": [
    "def F(x, f, n, t):\n",
    "    \n",
    "    sum_R = 0\n",
    "    \n",
    "    for i in range(t):\n",
    "            \n",
    "        x_bar = np.random.uniform(0,1, n)\n",
    "        r_t = x >= x_bar\n",
    "        R_t = []\n",
    "            \n",
    "        for i in range(len(r_t)):\n",
    "            \n",
    "            if r_t[i] == True:\n",
    "                R_t.append(i+1)\n",
    "                \n",
    "        sum_R = sum_R + f(R_t)\n",
    "\n",
    "    return sum_R/t"
   ]
  },
  {
   "cell_type": "code",
   "execution_count": 40,
   "metadata": {},
   "outputs": [],
   "source": [
    "def get_gradient_F_for_i(F, x, f, n, i, t):\n",
    "\n",
    "\n",
    "    x_without_i = copy.deepcopy(x)\n",
    "    x_without_i[i] = 0.0\n",
    "\n",
    "    x_with_i = copy.deepcopy(x)\n",
    "    x_with_i[i] = 1.0\n",
    "\n",
    "    # print('x with xi: ', x_with_i)\n",
    "    # print('x without xi: ', x_without_i)\n",
    "\n",
    "    df_dxi = F(x_with_i, f, n, t) - F(x_without_i, f, n, t)\n",
    "    return df_dxi"
   ]
  },
  {
   "cell_type": "code",
   "execution_count": 41,
   "metadata": {},
   "outputs": [],
   "source": [
    "def get_gradient_F(F, x, f, t):\n",
    "    \n",
    "    n = len(x)\n",
    "    \n",
    "    grad = np.zeros(len(x))\n",
    "    \n",
    "    for i in range(len(x)):\n",
    "        \n",
    "        grad[i] = get_gradient_F_for_i(F, x, f, n, i, t)\n",
    "    \n",
    "    return grad"
   ]
  },
  {
   "cell_type": "markdown",
   "metadata": {},
   "source": [
    "## Testing"
   ]
  },
  {
   "cell_type": "markdown",
   "metadata": {},
   "source": [
    "Define the size of the problem (n) "
   ]
  },
  {
   "cell_type": "code",
   "execution_count": 42,
   "metadata": {
    "scrolled": false
   },
   "outputs": [],
   "source": [
    "n = 10\n",
    "N = [(i+1) for i in range(n)]"
   ]
  },
  {
   "cell_type": "markdown",
   "metadata": {},
   "source": [
    "Define an x vector"
   ]
  },
  {
   "cell_type": "code",
   "execution_count": 83,
   "metadata": {},
   "outputs": [
    {
     "name": "stdout",
     "output_type": "stream",
     "text": [
      "x:  [0.36317331 0.72496232 0.43511452 0.76232037 0.80955674 0.44895654\n",
      " 0.1389388  0.09097997 0.56341361 0.15661356]\n"
     ]
    }
   ],
   "source": [
    "x_init = np.random.uniform(0,1, n)\n",
    "print(\"x: \", x)"
   ]
  },
  {
   "cell_type": "markdown",
   "metadata": {},
   "source": [
    "The corresponding S vector"
   ]
  },
  {
   "cell_type": "code",
   "execution_count": 85,
   "metadata": {},
   "outputs": [
    {
     "data": {
      "text/plain": [
       "[2, 4, 5, 7, 10]"
      ]
     },
     "execution_count": 85,
     "metadata": {},
     "output_type": "execute_result"
    }
   ],
   "source": [
    "S_init = convert_x_to_S(x_init)\n",
    "S_init"
   ]
  },
  {
   "cell_type": "code",
   "execution_count": 46,
   "metadata": {},
   "outputs": [],
   "source": [
    "t = int(2**n/4)"
   ]
  },
  {
   "cell_type": "markdown",
   "metadata": {},
   "source": [
    "## Constant function f(s)"
   ]
  },
  {
   "cell_type": "code",
   "execution_count": 47,
   "metadata": {},
   "outputs": [],
   "source": [
    "def f_constant(S):\n",
    "    return 5"
   ]
  },
  {
   "cell_type": "markdown",
   "metadata": {},
   "source": [
    "### Values of the function"
   ]
  },
  {
   "cell_type": "markdown",
   "metadata": {},
   "source": [
    "Actual value"
   ]
  },
  {
   "cell_type": "code",
   "execution_count": 48,
   "metadata": {
    "scrolled": true
   },
   "outputs": [
    {
     "data": {
      "text/plain": [
       "5"
      ]
     },
     "execution_count": 48,
     "metadata": {},
     "output_type": "execute_result"
    }
   ],
   "source": [
    "f_constant(S)"
   ]
  },
  {
   "cell_type": "markdown",
   "metadata": {},
   "source": [
    "Multi-linear extenstion"
   ]
  },
  {
   "cell_type": "code",
   "execution_count": 51,
   "metadata": {},
   "outputs": [
    {
     "data": {
      "text/plain": [
       "4.999999999999998"
      ]
     },
     "execution_count": 51,
     "metadata": {},
     "output_type": "execute_result"
    }
   ],
   "source": [
    "F_without_sampling(x, f_constant, n, t)"
   ]
  },
  {
   "cell_type": "markdown",
   "metadata": {},
   "source": [
    "Mutli-linear extension with sampling"
   ]
  },
  {
   "cell_type": "code",
   "execution_count": 52,
   "metadata": {},
   "outputs": [
    {
     "data": {
      "text/plain": [
       "5.0"
      ]
     },
     "execution_count": 52,
     "metadata": {},
     "output_type": "execute_result"
    }
   ],
   "source": [
    "F(x, f_constant, n, t)"
   ]
  },
  {
   "cell_type": "markdown",
   "metadata": {},
   "source": [
    "### Values of the gradient using multi-linear extension"
   ]
  },
  {
   "cell_type": "markdown",
   "metadata": {},
   "source": [
    "without sampling"
   ]
  },
  {
   "cell_type": "code",
   "execution_count": 49,
   "metadata": {
    "scrolled": true
   },
   "outputs": [
    {
     "data": {
      "text/plain": [
       "array([0., 0., 0., 0., 0., 0., 0., 0., 0., 0.])"
      ]
     },
     "execution_count": 49,
     "metadata": {},
     "output_type": "execute_result"
    }
   ],
   "source": [
    "get_gradient_F(F_without_sampling, x, f_constant, t)"
   ]
  },
  {
   "cell_type": "markdown",
   "metadata": {},
   "source": [
    "With sampling"
   ]
  },
  {
   "cell_type": "code",
   "execution_count": 50,
   "metadata": {
    "scrolled": true
   },
   "outputs": [
    {
     "data": {
      "text/plain": [
       "array([0., 0., 0., 0., 0., 0., 0., 0., 0., 0.])"
      ]
     },
     "execution_count": 50,
     "metadata": {},
     "output_type": "execute_result"
    }
   ],
   "source": [
    "get_gradient_F(F, x, f_constant, t)"
   ]
  },
  {
   "cell_type": "markdown",
   "metadata": {},
   "source": [
    "## Linear function f(S)"
   ]
  },
  {
   "cell_type": "code",
   "execution_count": 122,
   "metadata": {
    "scrolled": true
   },
   "outputs": [
    {
     "data": {
      "text/plain": [
       "array([-0.59560234, -0.60060714, -0.08306493, -0.56550184,  0.08338033,\n",
       "       -0.65249205,  0.32384115,  0.39270201, -0.08942853, -0.52571154])"
      ]
     },
     "execution_count": 122,
     "metadata": {},
     "output_type": "execute_result"
    }
   ],
   "source": [
    "a = np.random.uniform(-1,1, n)\n",
    "a"
   ]
  },
  {
   "cell_type": "code",
   "execution_count": 54,
   "metadata": {},
   "outputs": [],
   "source": [
    "def f_linear(S):\n",
    "    \n",
    "    #convert S to 0,1\n",
    "    s_hat = np.zeros(n)\n",
    "    \n",
    "    for i in range(len(S)):\n",
    "        \n",
    "        s_hat[S[i]-1] = 1\n",
    "        \n",
    "    return np.dot(a,s_hat)"
   ]
  },
  {
   "cell_type": "markdown",
   "metadata": {},
   "source": [
    "### Values of the function"
   ]
  },
  {
   "cell_type": "markdown",
   "metadata": {},
   "source": [
    "Actual value"
   ]
  },
  {
   "cell_type": "code",
   "execution_count": 55,
   "metadata": {
    "scrolled": true
   },
   "outputs": [
    {
     "data": {
      "text/plain": [
       "0.15123459125837813"
      ]
     },
     "execution_count": 55,
     "metadata": {},
     "output_type": "execute_result"
    }
   ],
   "source": [
    "f_linear(S)"
   ]
  },
  {
   "cell_type": "markdown",
   "metadata": {},
   "source": [
    "Multi-linear extenstion"
   ]
  },
  {
   "cell_type": "code",
   "execution_count": 56,
   "metadata": {},
   "outputs": [
    {
     "data": {
      "text/plain": [
       "-0.223845692862132"
      ]
     },
     "execution_count": 56,
     "metadata": {},
     "output_type": "execute_result"
    }
   ],
   "source": [
    "F_without_sampling(x, f_linear, n, t)"
   ]
  },
  {
   "cell_type": "markdown",
   "metadata": {},
   "source": [
    "Mutli-linear extension with sampling"
   ]
  },
  {
   "cell_type": "code",
   "execution_count": 57,
   "metadata": {},
   "outputs": [
    {
     "data": {
      "text/plain": [
       "-0.22220760951854548"
      ]
     },
     "execution_count": 57,
     "metadata": {},
     "output_type": "execute_result"
    }
   ],
   "source": [
    "F(x, f_linear, n, t)"
   ]
  },
  {
   "cell_type": "markdown",
   "metadata": {},
   "source": [
    "### Values of the gradient using multi-linear extension"
   ]
  },
  {
   "cell_type": "markdown",
   "metadata": {},
   "source": [
    "without sampling"
   ]
  },
  {
   "cell_type": "code",
   "execution_count": 58,
   "metadata": {
    "scrolled": true
   },
   "outputs": [
    {
     "data": {
      "text/plain": [
       "array([-0.56911368, -0.32727591, -0.19831385, -0.20853277,  0.68704327,\n",
       "        0.61431227, -0.82463091, -0.57948346,  0.72695033,  0.00626648])"
      ]
     },
     "execution_count": 58,
     "metadata": {},
     "output_type": "execute_result"
    }
   ],
   "source": [
    "get_gradient_F(F_without_sampling, x, f_linear, t)"
   ]
  },
  {
   "cell_type": "markdown",
   "metadata": {},
   "source": [
    "With sampling"
   ]
  },
  {
   "cell_type": "code",
   "execution_count": 59,
   "metadata": {
    "scrolled": false
   },
   "outputs": [
    {
     "data": {
      "text/plain": [
       "array([-0.5209593 , -0.2548901 , -0.20920076, -0.21844023,  0.75493205,\n",
       "        0.67286997, -0.74505285, -0.49024148,  0.73006711, -0.08481374])"
      ]
     },
     "execution_count": 59,
     "metadata": {},
     "output_type": "execute_result"
    }
   ],
   "source": [
    "get_gradient_F(F, x, f_linear, t)"
   ]
  },
  {
   "cell_type": "markdown",
   "metadata": {},
   "source": [
    "## Polynomial f(S) function"
   ]
  },
  {
   "cell_type": "code",
   "execution_count": 60,
   "metadata": {},
   "outputs": [],
   "source": [
    "def f_polynomial(S):\n",
    "    \n",
    "    #convert S to 0,1\n",
    "    s_hat = np.zeros(n)\n",
    "    \n",
    "    for i in range(len(S)):\n",
    "        \n",
    "        s_hat[S[i]-1] = 1\n",
    "        \n",
    "    a_hat = s_hat*a\n",
    "    \n",
    "    return np.dot(a_hat,a_hat)"
   ]
  },
  {
   "cell_type": "markdown",
   "metadata": {},
   "source": [
    "### Values of function"
   ]
  },
  {
   "cell_type": "markdown",
   "metadata": {},
   "source": [
    "Actual value"
   ]
  },
  {
   "cell_type": "code",
   "execution_count": 61,
   "metadata": {
    "scrolled": false
   },
   "outputs": [
    {
     "data": {
      "text/plain": [
       "0.6226238874770083"
      ]
     },
     "execution_count": 61,
     "metadata": {},
     "output_type": "execute_result"
    }
   ],
   "source": [
    "f_polynomial(S)"
   ]
  },
  {
   "cell_type": "markdown",
   "metadata": {},
   "source": [
    "Multi-linear extension "
   ]
  },
  {
   "cell_type": "code",
   "execution_count": 62,
   "metadata": {},
   "outputs": [
    {
     "data": {
      "text/plain": [
       "1.2346439031360459"
      ]
     },
     "execution_count": 62,
     "metadata": {},
     "output_type": "execute_result"
    }
   ],
   "source": [
    "F_without_sampling(x, f_polynomial, n, t)"
   ]
  },
  {
   "cell_type": "markdown",
   "metadata": {},
   "source": [
    "Multi-linear extenstion with sampling"
   ]
  },
  {
   "cell_type": "code",
   "execution_count": 63,
   "metadata": {
    "scrolled": true
   },
   "outputs": [
    {
     "data": {
      "text/plain": [
       "1.2151348289837727"
      ]
     },
     "execution_count": 63,
     "metadata": {},
     "output_type": "execute_result"
    }
   ],
   "source": [
    "F(x, f_polynomial, n, t)"
   ]
  },
  {
   "cell_type": "markdown",
   "metadata": {},
   "source": [
    "### Values of gradients using multi-linear approximation"
   ]
  },
  {
   "cell_type": "markdown",
   "metadata": {},
   "source": [
    "Without sampling"
   ]
  },
  {
   "cell_type": "code",
   "execution_count": 64,
   "metadata": {},
   "outputs": [
    {
     "data": {
      "text/plain": [
       "array([3.23890380e-01, 1.07109518e-01, 3.93283841e-02, 4.34859169e-02,\n",
       "       4.72028452e-01, 3.77379561e-01, 6.80016138e-01, 3.35801085e-01,\n",
       "       5.28456775e-01, 3.92687246e-05])"
      ]
     },
     "execution_count": 64,
     "metadata": {},
     "output_type": "execute_result"
    }
   ],
   "source": [
    "get_gradient_F(F_without_sampling, x, f_polynomial, t)"
   ]
  },
  {
   "cell_type": "markdown",
   "metadata": {},
   "source": [
    "With sampling"
   ]
  },
  {
   "cell_type": "code",
   "execution_count": 65,
   "metadata": {
    "scrolled": true
   },
   "outputs": [
    {
     "data": {
      "text/plain": [
       "array([0.27406925, 0.09810465, 0.07319991, 0.07753057, 0.52099185,\n",
       "       0.39098826, 0.6296    , 0.30472826, 0.54472102, 0.06190173])"
      ]
     },
     "execution_count": 65,
     "metadata": {},
     "output_type": "execute_result"
    }
   ],
   "source": [
    "get_gradient_F(F, x, f_polynomial, t)"
   ]
  },
  {
   "cell_type": "markdown",
   "metadata": {},
   "source": [
    "# Testing Gradient Ascent"
   ]
  },
  {
   "cell_type": "markdown",
   "metadata": {},
   "source": [
    "## Find maximum using gradient ascent"
   ]
  },
  {
   "cell_type": "code",
   "execution_count": 167,
   "metadata": {},
   "outputs": [],
   "source": [
    "def gradient_ascent(F, x, f, n, alpha, t, epsilon):\n",
    "    \n",
    "    x_init = copy.deepcopy(x)\n",
    "    sum_init = F(x, f, n, t)\n",
    "    # key values to be used\n",
    "    sum_update = 0\n",
    "    iter = 0\n",
    "    sum_temp = copy.deepcopy(sum_init)\n",
    "\n",
    "    # start updating the parameters x with iterative gradients\n",
    "    while np.abs(sum_temp - sum_update) > epsilon:\n",
    "        iter += 1\n",
    "        sum_temp = F(x, f, n, t)\n",
    "\n",
    "        for i in range(n):\n",
    "            grad_i = get_gradient_F_for_i(F, x, f, n, i, t)\n",
    "            x[i] = np.minimum(x[i] + alpha * grad_i, 1.0)\n",
    "            x[i] = np.maximum(x[i], 0.0)\n",
    "\n",
    "        sum_update = F(x, f, n, t)\n",
    "\n",
    "    print('Iterations: ', iter, '\\n')\n",
    "    print('Initial F: ', sum_init)\n",
    "    print('Initial x: ', x_init, '\\n')\n",
    "    print('Final F: ', sum_update)\n",
    "    print('Final x: ', x, '\\n')\n",
    "    return iter, sum_update, x"
   ]
  },
  {
   "cell_type": "markdown",
   "metadata": {},
   "source": [
    "## Go through all the possible S and find the maximum"
   ]
  },
  {
   "cell_type": "code",
   "execution_count": 166,
   "metadata": {},
   "outputs": [],
   "source": [
    "def actual_max(f,n):\n",
    "    \n",
    "    A = [np.array(i) for i in itertools.product([0, 1], repeat = n)]\n",
    "    \n",
    "    max_val_S = 0\n",
    "    argmax_S = []\n",
    "\n",
    "    for i in range(len(A)):\n",
    "\n",
    "        S = []\n",
    "\n",
    "        for j in range(len(A[i])):\n",
    "            if A[i][j] == 1:\n",
    "                S.append(j+1)\n",
    "\n",
    "        val_S = f(S)\n",
    "        \n",
    "        if val_S > max_val_S:\n",
    "            max_val_S = val_S\n",
    "            argmax_S = S\n",
    "            print(i,S,val_S)\n",
    "    \n",
    "    return max_val_S, argmax_S\n",
    "    "
   ]
  },
  {
   "cell_type": "code",
   "execution_count": 156,
   "metadata": {},
   "outputs": [],
   "source": [
    "# stepsize for gradient ascent\n",
    "alpha = 0.001\n",
    "epsilon = 10**(-9)"
   ]
  },
  {
   "cell_type": "markdown",
   "metadata": {},
   "source": [
    "### For f_linear"
   ]
  },
  {
   "cell_type": "code",
   "execution_count": 172,
   "metadata": {},
   "outputs": [],
   "source": [
    "x_initial = np.random.uniform(0,1, n)\n",
    "S_init = convert_x_to_S(x_initial)"
   ]
  },
  {
   "cell_type": "code",
   "execution_count": 173,
   "metadata": {
    "scrolled": true
   },
   "outputs": [
    {
     "name": "stdout",
     "output_type": "stream",
     "text": [
      "[0.22130807 0.96299877 0.54604114 0.05499354 0.87419238 0.6066409\n",
      " 0.14848089 0.24386139 0.01034562 0.89132367] [2, 3, 5, 6, 10]\n"
     ]
    }
   ],
   "source": [
    "print(x_initial,S_init)"
   ]
  },
  {
   "cell_type": "code",
   "execution_count": 174,
   "metadata": {
    "scrolled": false
   },
   "outputs": [
    {
     "name": "stdout",
     "output_type": "stream",
     "text": [
      "Iterations:  2474 \n",
      "\n",
      "Initial F:  -1.4721556230930073\n",
      "Initial x:  [0.22130807 0.96299877 0.54604114 0.05499354 0.87419238 0.6066409\n",
      " 0.14848089 0.24386139 0.01034562 0.89132367] \n",
      "\n",
      "Final F:  0.7597261711451427\n",
      "Final x:  [0.         0.         0.34037559 0.         1.         0.\n",
      " 0.9507759  1.         0.         0.        ] \n",
      "\n"
     ]
    }
   ],
   "source": [
    "_,_,x_final = gradient_ascent(F, x_initial, f_linear, n, alpha, t, epsilon)\n",
    "S_final_grad_ascent = convert_x_to_S(x_final)"
   ]
  },
  {
   "cell_type": "code",
   "execution_count": 175,
   "metadata": {
    "scrolled": true
   },
   "outputs": [
    {
     "name": "stdout",
     "output_type": "stream",
     "text": [
      "[5, 7, 8]\n"
     ]
    }
   ],
   "source": [
    "print(S_final_grad_ascent)"
   ]
  },
  {
   "cell_type": "code",
   "execution_count": 176,
   "metadata": {
    "scrolled": false
   },
   "outputs": [
    {
     "name": "stdout",
     "output_type": "stream",
     "text": [
      "4 [8] 0.3927020102318308\n",
      "12 [7, 8] 0.7165431576449142\n",
      "44 [5, 7, 8] 0.7999234846133663\n"
     ]
    }
   ],
   "source": [
    "max_val,S_final_actual_max = actual_max(f_linear, n)"
   ]
  },
  {
   "cell_type": "code",
   "execution_count": 177,
   "metadata": {
    "scrolled": true
   },
   "outputs": [
    {
     "data": {
      "text/plain": [
       "(0.7999234846133663, [5, 7, 8])"
      ]
     },
     "execution_count": 177,
     "metadata": {},
     "output_type": "execute_result"
    }
   ],
   "source": [
    "max_val,S_final_actual_max"
   ]
  },
  {
   "cell_type": "markdown",
   "metadata": {},
   "source": [
    "We get the same output from the gradient descent as the exact output"
   ]
  },
  {
   "cell_type": "markdown",
   "metadata": {},
   "source": [
    "### For f_polynomial"
   ]
  },
  {
   "cell_type": "code",
   "execution_count": 189,
   "metadata": {},
   "outputs": [],
   "source": [
    "alpha = 0.001\n",
    "epsilon = 10**(-9)"
   ]
  },
  {
   "cell_type": "code",
   "execution_count": 190,
   "metadata": {},
   "outputs": [],
   "source": [
    "x_initial = np.random.uniform(0,1, n)\n",
    "S_init = convert_x_to_S(x_initial)"
   ]
  },
  {
   "cell_type": "code",
   "execution_count": 191,
   "metadata": {
    "scrolled": false
   },
   "outputs": [
    {
     "name": "stdout",
     "output_type": "stream",
     "text": [
      "[0.24811139 0.89848543 0.25392792 0.68502991 0.33534884 0.44996104\n",
      " 0.73431626 0.3700837  0.83602245 0.97424866] [2, 4, 7, 9, 10]\n"
     ]
    }
   ],
   "source": [
    "print(x_initial,S_init)"
   ]
  },
  {
   "cell_type": "code",
   "execution_count": 192,
   "metadata": {
    "scrolled": false
   },
   "outputs": [
    {
     "name": "stdout",
     "output_type": "stream",
     "text": [
      "Iterations:  4699 \n",
      "\n",
      "Initial F:  1.2313472178947806\n",
      "Initial x:  [0.24811139 0.89848543 0.25392792 0.68502991 0.33534884 0.44996104\n",
      " 0.73431626 0.3700837  0.83602245 0.97424866] \n",
      "\n",
      "Final F:  2.0084700316028288\n",
      "Final x:  [1.         1.         0.28642479 1.         0.36678356 1.\n",
      " 1.         1.         0.87481278 1.        ] \n",
      "\n"
     ]
    }
   ],
   "source": [
    "_,_,x_final = gradient_ascent(F, x_initial, f_polynomial, n, alpha, t, epsilon)\n",
    "S_final_grad_ascent = convert_x_to_S(x_final)"
   ]
  },
  {
   "cell_type": "code",
   "execution_count": 193,
   "metadata": {
    "scrolled": true
   },
   "outputs": [
    {
     "name": "stdout",
     "output_type": "stream",
     "text": [
      "[1, 2, 4, 6, 7, 8, 9, 10]\n"
     ]
    }
   ],
   "source": [
    "print(S_final_grad_ascent)"
   ]
  },
  {
   "cell_type": "code",
   "execution_count": 187,
   "metadata": {
    "scrolled": false
   },
   "outputs": [
    {
     "name": "stdout",
     "output_type": "stream",
     "text": [
      "1 [10] 0.27637261951588765\n",
      "3 [9, 10] 0.2843700820239184\n",
      "5 [8, 10] 0.4305874883560086\n",
      "7 [8, 9, 10] 0.43858495086403937\n",
      "13 [7, 8, 10] 0.535460577113831\n",
      "15 [7, 8, 9, 10] 0.5434580396218618\n",
      "17 [6, 10] 0.7021184965887742\n",
      "19 [6, 9, 10] 0.710115959096805\n",
      "21 [6, 8, 10] 0.8563333654288952\n",
      "23 [6, 8, 9, 10] 0.864330827936926\n",
      "29 [6, 7, 8, 10] 0.9612064541867176\n",
      "31 [6, 7, 8, 9, 10] 0.9692039166947484\n",
      "63 [5, 6, 7, 8, 9, 10] 0.9761561956201142\n",
      "81 [4, 6, 10] 1.0219108312507386\n",
      "83 [4, 6, 9, 10] 1.0299082937587694\n",
      "85 [4, 6, 8, 10] 1.1761257000908596\n",
      "87 [4, 6, 8, 9, 10] 1.1841231625988904\n",
      "93 [4, 6, 7, 8, 10] 1.280998788848682\n",
      "95 [4, 6, 7, 8, 9, 10] 1.2889962513567128\n",
      "127 [4, 5, 6, 7, 8, 9, 10] 1.2959485302820788\n",
      "255 [3, 4, 5, 6, 7, 8, 9, 10] 1.3028483134857352\n",
      "285 [2, 6, 7, 8, 10] 1.3219353857926857\n",
      "287 [2, 6, 7, 8, 9, 10] 1.3299328483007167\n",
      "319 [2, 5, 6, 7, 8, 9, 10] 1.3368851272260827\n",
      "337 [2, 4, 6, 10] 1.3826397628567069\n",
      "339 [2, 4, 6, 9, 10] 1.3906372253647377\n",
      "341 [2, 4, 6, 8, 10] 1.5368546316968277\n",
      "343 [2, 4, 6, 8, 9, 10] 1.5448520942048587\n",
      "349 [2, 4, 6, 7, 8, 10] 1.64172772045465\n",
      "351 [2, 4, 6, 7, 8, 9, 10] 1.6497251829626811\n",
      "383 [2, 4, 5, 6, 7, 8, 9, 10] 1.656677461888047\n",
      "511 [2, 3, 4, 5, 6, 7, 8, 9, 10] 1.6635772450917035\n",
      "797 [1, 2, 6, 7, 8, 10] 1.676677536040878\n",
      "799 [1, 2, 6, 7, 8, 9, 10] 1.6846749985489087\n",
      "831 [1, 2, 5, 6, 7, 8, 9, 10] 1.6916272774742747\n",
      "849 [1, 2, 4, 6, 10] 1.7373819131048993\n",
      "851 [1, 2, 4, 6, 9, 10] 1.7453793756129299\n",
      "853 [1, 2, 4, 6, 8, 10] 1.8915967819450201\n",
      "855 [1, 2, 4, 6, 8, 9, 10] 1.8995942444530507\n",
      "861 [1, 2, 4, 6, 7, 8, 10] 1.9964698707028425\n",
      "863 [1, 2, 4, 6, 7, 8, 9, 10] 2.004467333210873\n",
      "895 [1, 2, 4, 5, 6, 7, 8, 9, 10] 2.011419612136239\n",
      "1023 [1, 2, 3, 4, 5, 6, 7, 8, 9, 10] 2.018319395339896\n"
     ]
    }
   ],
   "source": [
    "max_val,S_final_actual_max = actual_max(f_polynomial, n)"
   ]
  },
  {
   "cell_type": "code",
   "execution_count": 188,
   "metadata": {},
   "outputs": [
    {
     "data": {
      "text/plain": [
       "(2.018319395339896, [1, 2, 3, 4, 5, 6, 7, 8, 9, 10])"
      ]
     },
     "execution_count": 188,
     "metadata": {},
     "output_type": "execute_result"
    }
   ],
   "source": [
    "max_val,S_final_actual_max"
   ]
  },
  {
   "cell_type": "markdown",
   "metadata": {},
   "source": [
    "For the polynomial function the gradient ascent doesn't give the same output as the exact method"
   ]
  }
 ],
 "metadata": {
  "kernelspec": {
   "display_name": "Python 3",
   "language": "python",
   "name": "python3"
  },
  "language_info": {
   "codemirror_mode": {
    "name": "ipython",
    "version": 3
   },
   "file_extension": ".py",
   "mimetype": "text/x-python",
   "name": "python",
   "nbconvert_exporter": "python",
   "pygments_lexer": "ipython3",
   "version": "3.7.4"
  }
 },
 "nbformat": 4,
 "nbformat_minor": 2
}
