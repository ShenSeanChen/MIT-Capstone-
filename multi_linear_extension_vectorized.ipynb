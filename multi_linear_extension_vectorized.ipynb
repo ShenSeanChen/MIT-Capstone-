{
 "cells": [
  {
   "cell_type": "code",
   "execution_count": 1,
   "metadata": {},
   "outputs": [],
   "source": [
    "import random\n",
    "import numpy as np\n",
    "import itertools\n",
    "import copy"
   ]
  },
  {
   "cell_type": "markdown",
   "metadata": {},
   "source": [
    "## Multi linear approximation"
   ]
  },
  {
   "cell_type": "code",
   "execution_count": 199,
   "metadata": {},
   "outputs": [],
   "source": [
    "def F(x, f, t):\n",
    "\n",
    "    sum_R = 0\n",
    "\n",
    "    for i in range(t):\n",
    "\n",
    "        x_bar = np.random.uniform(0,1, x.shape)\n",
    "\n",
    "        R_t = x >= x_bar\n",
    "\n",
    "        sum_R = sum_R + f(R_t)\n",
    "\n",
    "    return sum_R/t"
   ]
  },
  {
   "cell_type": "markdown",
   "metadata": {},
   "source": [
    "## Function to calculate gradients"
   ]
  },
  {
   "cell_type": "code",
   "execution_count": 200,
   "metadata": {},
   "outputs": [],
   "source": [
    "def get_gradient_F(F,x,f,t,n):\n",
    "    \n",
    "    x_new_1 = x*np.ones((n, n))\n",
    "    x_new_0 = x*np.ones((n, n))\n",
    "\n",
    "    np.fill_diagonal(x_new_1, 1)\n",
    "    np.fill_diagonal(x_new_0, 0)\n",
    "    \n",
    "    return F(x_new_1, f, t) - F(x_new_0, f, t)"
   ]
  },
  {
   "cell_type": "markdown",
   "metadata": {},
   "source": [
    "## Gradient ascent"
   ]
  },
  {
   "cell_type": "code",
   "execution_count": 282,
   "metadata": {},
   "outputs": [],
   "source": [
    "def gradient_ascent(F, x, f, alpha, t, epsilon, n):\n",
    "    \n",
    "    x_init = copy.deepcopy(x)\n",
    "    sum_init = F(x, f, t)\n",
    "    \n",
    "    # key values to be used\n",
    "    sum_update = 0\n",
    "    j = 0\n",
    "    \n",
    "    sum_temp = copy.deepcopy(sum_init)\n",
    "    # start updating the parameters x with iterative gradients\n",
    "    \n",
    "    while np.abs(sum_temp - sum_update) > epsilon:\n",
    "        \n",
    "        j += 1\n",
    "        sum_temp = F(x, f, t)\n",
    "        \n",
    "        grad = get_gradient_F(F,x,f,t,n)\n",
    "        \n",
    "        x = x + alpha*grad\n",
    "        x = np.maximum(np.minimum(x,1),0)\n",
    "        \n",
    "        sum_update = F(x, f, t)\n",
    "            \n",
    "        #print(\"Iteration: \", j, \"\\n\" , \"Function value: \", sum_temp,\"\\n\", \"x: \", x, \"\\n\")\n",
    "        \n",
    "    \n",
    "    return j,sum_update, x"
   ]
  },
  {
   "cell_type": "markdown",
   "metadata": {},
   "source": [
    "# Testing with a linear function"
   ]
  },
  {
   "cell_type": "code",
   "execution_count": 279,
   "metadata": {},
   "outputs": [
    {
     "name": "stdout",
     "output_type": "stream",
     "text": [
      "[[-0.34626063 -0.85854309 -0.48660211 -0.35646185  0.85563729  0.48488141\n",
      "   0.12433236  0.03606087  0.89116151 -0.43654635]]\n"
     ]
    }
   ],
   "source": [
    "def f_linear(x):\n",
    "        \n",
    "    return np.dot(a,x.T)"
   ]
  },
  {
   "cell_type": "code",
   "execution_count": 288,
   "metadata": {
    "scrolled": true
   },
   "outputs": [
    {
     "name": "stdout",
     "output_type": "stream",
     "text": [
      "[[0.80426248 0.37129594 0.41275793 0.18230786 0.29666404 0.92648845\n",
      "  0.61205537 0.37706944 0.54019506 0.13373746]]\n"
     ]
    }
   ],
   "source": [
    "#parameters\n",
    "alpha = 0.5 \n",
    "epsilon = 0.1*10**(-5)\n",
    "t=300\n",
    "n = 10\n",
    "\n",
    "x_initial = np.random.uniform(0,1, (1,n))\n",
    "print(x_initial)"
   ]
  },
  {
   "cell_type": "markdown",
   "metadata": {},
   "source": [
    "### Testing for different values of a"
   ]
  },
  {
   "cell_type": "code",
   "execution_count": 289,
   "metadata": {
    "scrolled": false
   },
   "outputs": [
    {
     "name": "stdout",
     "output_type": "stream",
     "text": [
      "[[-0.06024431  0.57453778  0.3068298  -0.82906145 -0.38156489  0.87780967\n",
      "   0.43427097 -0.62723576  0.97631727 -0.38546396]]\n"
     ]
    },
    {
     "data": {
      "text/plain": [
       "(28, array([[3.16976548]]), array([[0., 1., 1., 0., 0., 1., 1., 0., 1., 0.]]))"
      ]
     },
     "execution_count": 289,
     "metadata": {},
     "output_type": "execute_result"
    }
   ],
   "source": [
    "a = np.random.uniform(-1,1, (1,n))\n",
    "print(a)\n",
    "gradient_ascent(F, x_initial, f_linear, alpha, t, epsilon, n = 10)"
   ]
  },
  {
   "cell_type": "code",
   "execution_count": 290,
   "metadata": {},
   "outputs": [
    {
     "name": "stdout",
     "output_type": "stream",
     "text": [
      "[[-0.05778796 -0.06747129  0.12143734 -0.55482301  0.55016344  0.78986494\n",
      "  -0.09947665 -0.83118042 -0.68067541 -0.25183397]]\n"
     ]
    },
    {
     "data": {
      "text/plain": [
       "(28, array([[1.46146572]]), array([[0., 0., 1., 0., 1., 1., 0., 0., 0., 0.]]))"
      ]
     },
     "execution_count": 290,
     "metadata": {},
     "output_type": "execute_result"
    }
   ],
   "source": [
    "a = np.random.uniform(-1,1, (1,n))\n",
    "print(a)\n",
    "gradient_ascent(F, x_initial, f_linear, alpha, t, epsilon, n = 10)"
   ]
  },
  {
   "cell_type": "code",
   "execution_count": 291,
   "metadata": {
    "scrolled": true
   },
   "outputs": [
    {
     "name": "stdout",
     "output_type": "stream",
     "text": [
      "[[ 0.85494616  0.10750013 -0.4503227  -0.45777205 -0.43419366  0.50792818\n",
      "   0.72904509  0.67437448 -0.3804119   0.25468475]]\n"
     ]
    },
    {
     "data": {
      "text/plain": [
       "(14, array([[3.12847879]]), array([[1., 1., 0., 0., 0., 1., 1., 1., 0., 1.]]))"
      ]
     },
     "execution_count": 291,
     "metadata": {},
     "output_type": "execute_result"
    }
   ],
   "source": [
    "a = np.random.uniform(-1,1, (1,n))\n",
    "print(a)\n",
    "gradient_ascent(F, x_initial, f_linear, alpha, t, epsilon, n = 10)"
   ]
  },
  {
   "cell_type": "markdown",
   "metadata": {},
   "source": [
    "For this test a is not random and defined by us"
   ]
  },
  {
   "cell_type": "code",
   "execution_count": 292,
   "metadata": {},
   "outputs": [
    {
     "name": "stdout",
     "output_type": "stream",
     "text": [
      "[[-1.         -0.77777778 -0.55555556 -0.33333333 -0.11111111  0.11111111\n",
      "   0.33333333  0.55555556  0.77777778  1.        ]]\n"
     ]
    },
    {
     "data": {
      "text/plain": [
       "(6, array([[2.77777778]]), array([[0., 0., 0., 0., 0., 1., 1., 1., 1., 1.]]))"
      ]
     },
     "execution_count": 292,
     "metadata": {},
     "output_type": "execute_result"
    }
   ],
   "source": [
    "a = np.linspace(-1, 1, n).reshape(1,n)\n",
    "print(a)\n",
    "gradient_ascent(F, x_initial, f_linear, alpha, t, epsilon, n = 10)"
   ]
  }
 ],
 "metadata": {
  "kernelspec": {
   "display_name": "Python 3",
   "language": "python",
   "name": "python3"
  },
  "language_info": {
   "codemirror_mode": {
    "name": "ipython",
    "version": 3
   },
   "file_extension": ".py",
   "mimetype": "text/x-python",
   "name": "python",
   "nbconvert_exporter": "python",
   "pygments_lexer": "ipython3",
   "version": "3.7.4"
  }
 },
 "nbformat": 4,
 "nbformat_minor": 2
}
